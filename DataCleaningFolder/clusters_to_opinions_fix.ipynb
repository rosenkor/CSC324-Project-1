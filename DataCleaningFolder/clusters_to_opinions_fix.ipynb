{
  "cells": [
    {
      "cell_type": "code",
      "execution_count": null,
      "metadata": {
        "colab": {
          "base_uri": "https://localhost:8080/"
        },
        "id": "MsgU0pIqbB_6",
        "outputId": "75796678-3d3d-4ec6-ffce-d91b3bf12f50"
      },
      "outputs": [
        {
          "output_type": "stream",
          "name": "stdout",
          "text": [
            "Requirement already satisfied: requests in /usr/local/lib/python3.10/dist-packages (2.31.0)\n",
            "Requirement already satisfied: bs4 in /usr/local/lib/python3.10/dist-packages (0.0.2)\n",
            "Requirement already satisfied: pandas in /usr/local/lib/python3.10/dist-packages (1.5.3)\n",
            "Requirement already satisfied: numpy in /usr/local/lib/python3.10/dist-packages (1.25.2)\n",
            "Requirement already satisfied: datetime in /usr/local/lib/python3.10/dist-packages (5.4)\n",
            "Requirement already satisfied: urllib3 in /usr/local/lib/python3.10/dist-packages (2.0.7)\n",
            "Requirement already satisfied: tqdm in /usr/local/lib/python3.10/dist-packages (4.66.2)\n",
            "Requirement already satisfied: reachability in /usr/local/lib/python3.10/dist-packages (0.1.4)\n",
            "Requirement already satisfied: rpy2 in /usr/local/lib/python3.10/dist-packages (3.4.2)\n",
            "Collecting multiprocessing\n",
            "  Downloading multiprocessing-2.6.2.1.tar.gz (108 kB)\n",
            "\u001b[2K     \u001b[90m━━━━━━━━━━━━━━━━━━━━━━━━━━━━━━━━━━━━━━━━\u001b[0m \u001b[32m108.0/108.0 kB\u001b[0m \u001b[31m3.0 MB/s\u001b[0m eta \u001b[36m0:00:00\u001b[0m\n",
            "\u001b[?25h  \u001b[1;31merror\u001b[0m: \u001b[1msubprocess-exited-with-error\u001b[0m\n",
            "  \n",
            "  \u001b[31m×\u001b[0m \u001b[32mpython setup.py egg_info\u001b[0m did not run successfully.\n",
            "  \u001b[31m│\u001b[0m exit code: \u001b[1;36m1\u001b[0m\n",
            "  \u001b[31m╰─>\u001b[0m See above for output.\n",
            "  \n",
            "  \u001b[1;35mnote\u001b[0m: This error originates from a subprocess, and is likely not a problem with pip.\n",
            "  Preparing metadata (setup.py) ... \u001b[?25l\u001b[?25herror\n",
            "\u001b[1;31merror\u001b[0m: \u001b[1mmetadata-generation-failed\u001b[0m\n",
            "\n",
            "\u001b[31m×\u001b[0m Encountered error while generating package metadata.\n",
            "\u001b[31m╰─>\u001b[0m See above for output.\n",
            "\n",
            "\u001b[1;35mnote\u001b[0m: This is an issue with the package mentioned above, not pip.\n",
            "\u001b[1;36mhint\u001b[0m: See above for details.\n"
          ]
        }
      ],
      "source": [
        "!pip install requests bs4 pandas numpy datetime urllib3 tqdm reachability rpy2\n"
      ]
    },
    {
      "cell_type": "code",
      "execution_count": null,
      "metadata": {
        "id": "kdIKee21bNzj"
      },
      "outputs": [],
      "source": [
        "url = \"https://www.courtlistener.com/api/rest/v3/\"\n",
        "api_key = \"163cea228fb27936988d579ed72fe787848e1866\"\n"
      ]
    },
    {
      "cell_type": "code",
      "execution_count": null,
      "metadata": {
        "colab": {
          "base_uri": "https://localhost:8080/"
        },
        "id": "fWDfYseOa6X0",
        "outputId": "1437e58e-06f6-4056-a1d7-98b962b7e1bd"
      },
      "outputs": [
        {
          "metadata": {
            "tags": null
          },
          "name": "stdout",
          "output_type": "stream",
          "text": [
            "Drive already mounted at /content/drive; to attempt to forcibly remount, call drive.mount(\"/content/drive\", force_remount=True).\n"
          ]
        },
        {
          "metadata": {
            "tags": null
          },
          "name": "stderr",
          "output_type": "stream",
          "text": [
            "Fetching sub-opinions data:   8%|▊         | 257/3154 [01:27<12:18,  3.92page/s]"
          ]
        },
        {
          "metadata": {
            "tags": null
          },
          "name": "stdout",
          "output_type": "stream",
          "text": [
            "502 Server Error: Bad Gateway for url: https://www.courtlistener.com/api/rest/v3/opinions/?id__gte=6353242&id__lte=6353243&author__gte=0&order_by=id&fields=plain_text,html,html_lawbox,html_columbia,html_anon_2020,xml_harvard,html_with_citations,opinions_cited,author_id,id,cluster_id\n"
          ]
        },
        {
          "metadata": {
            "tags": null
          },
          "name": "stderr",
          "output_type": "stream",
          "text": [
            "Fetching sub-opinions data:  10%|█         | 322/3154 [01:42<12:36,  3.75page/s]"
          ]
        },
        {
          "metadata": {
            "tags": null
          },
          "name": "stdout",
          "output_type": "stream",
          "text": [
            "502 Server Error: Bad Gateway for url: https://www.courtlistener.com/api/rest/v3/opinions/?id__gte=8331147&id__lte=8331147&author__gte=0&order_by=id&fields=plain_text,html,html_lawbox,html_columbia,html_anon_2020,xml_harvard,html_with_citations,opinions_cited,author_id,id,cluster_id\n"
          ]
        },
        {
          "metadata": {
            "tags": null
          },
          "name": "stderr",
          "output_type": "stream",
          "text": [
            "Fetching sub-opinions data:  22%|██▏       | 680/3154 [03:32<10:14,  4.03page/s]"
          ]
        },
        {
          "metadata": {
            "tags": null
          },
          "name": "stdout",
          "output_type": "stream",
          "text": [
            "502 Server Error: Bad Gateway for url: https://www.courtlistener.com/api/rest/v3/opinions/?id__gte=4845678&id__lte=4845678&author__gte=0&order_by=id&fields=plain_text,html,html_lawbox,html_columbia,html_anon_2020,xml_harvard,html_with_citations,opinions_cited,author_id,id,cluster_id\n"
          ]
        },
        {
          "metadata": {
            "tags": null
          },
          "name": "stderr",
          "output_type": "stream",
          "text": [
            "Fetching sub-opinions data:  29%|██▉       | 916/3154 [04:48<10:48,  3.45page/s]"
          ]
        },
        {
          "metadata": {
            "tags": null
          },
          "name": "stdout",
          "output_type": "stream",
          "text": [
            "502 Server Error: Bad Gateway for url: https://www.courtlistener.com/api/rest/v3/opinions/?id__gte=6501113&id__lte=6501114&author__gte=0&order_by=id&fields=plain_text,html,html_lawbox,html_columbia,html_anon_2020,xml_harvard,html_with_citations,opinions_cited,author_id,id,cluster_id\n"
          ]
        },
        {
          "metadata": {
            "tags": null
          },
          "name": "stderr",
          "output_type": "stream",
          "text": [
            "Fetching sub-opinions data:  31%|███▏      | 992/3154 [05:12<12:09,  2.96page/s]"
          ]
        },
        {
          "metadata": {
            "tags": null
          },
          "name": "stdout",
          "output_type": "stream",
          "text": [
            "502 Server Error: Bad Gateway for url: https://www.courtlistener.com/api/rest/v3/opinions/?id__gte=4528504&id__lte=4528504&author__gte=0&order_by=id&fields=plain_text,html,html_lawbox,html_columbia,html_anon_2020,xml_harvard,html_with_citations,opinions_cited,author_id,id,cluster_id\n"
          ]
        },
        {
          "metadata": {
            "tags": null
          },
          "name": "stderr",
          "output_type": "stream",
          "text": [
            "Fetching sub-opinions data:  38%|███▊      | 1195/3154 [09:30<10:04,  3.24page/s]"
          ]
        },
        {
          "metadata": {
            "tags": null
          },
          "name": "stdout",
          "output_type": "stream",
          "text": [
            "429 Client Error: Too Many Requests for url: https://www.courtlistener.com/api/rest/v3/opinions/?id__gte=4536414&id__lte=4536414&author__gte=0&order_by=id&fields=plain_text,html,html_lawbox,html_columbia,html_anon_2020,xml_harvard,html_with_citations,opinions_cited,author_id,id,cluster_id\n",
            "429 Client Error: Too Many Requests for url: https://www.courtlistener.com/api/rest/v3/opinions/?id__gte=9378517&id__lte=9378517&author__gte=0&order_by=id&fields=plain_text,html,html_lawbox,html_columbia,html_anon_2020,xml_harvard,html_with_citations,opinions_cited,author_id,id,cluster_id\n",
            "429 Client Error: Too Many Requests for url: https://www.courtlistener.com/api/rest/v3/opinions/?id__gte=5130244&id__lte=5130244&author__gte=0&order_by=id&fields=plain_text,html,html_lawbox,html_columbia,html_anon_2020,xml_harvard,html_with_citations,opinions_cited,author_id,id,cluster_id\n",
            "429 Client Error: Too Many Requests for url: https://www.courtlistener.com/api/rest/v3/opinions/?id__gte=9226221&id__lte=9226222&author__gte=0&order_by=id&fields=plain_text,html,html_lawbox,html_columbia,html_anon_2020,xml_harvard,html_with_citations,opinions_cited,author_id,id,cluster_id\n"
          ]
        },
        {
          "metadata": {
            "tags": null
          },
          "name": "stderr",
          "output_type": "stream",
          "text": [
            "Fetching sub-opinions data:  38%|███▊      | 1189/3155 [12:33<5:11:03,  9.49s/page]"
          ]
        },
        {
          "metadata": {
            "tags": null
          },
          "name": "stdout",
          "output_type": "stream",
          "text": [
            "429 Client Error: Too Many Requests for url: https://www.courtlistener.com/api/rest/v3/opinions/?id__gte=9291396&id__lte=9291397&author__gte=0&order_by=id&fields=plain_text,html,html_lawbox,html_columbia,html_anon_2020,xml_harvard,html_with_citations,opinions_cited,author_id,id,cluster_id\n",
            "429 Client Error: Too Many Requests for url: https://www.courtlistener.com/api/rest/v3/opinions/?id__gte=4536499&id__lte=4536499&author__gte=0&order_by=id&fields=plain_text,html,html_lawbox,html_columbia,html_anon_2020,xml_harvard,html_with_citations,opinions_cited,author_id,id,cluster_id\n"
          ]
        },
        {
          "metadata": {
            "tags": null
          },
          "name": "stderr",
          "output_type": "stream",
          "text": [
            "\rFetching sub-opinions data:  38%|███▊      | 1203/3154 [12:33<2:34:42,  4.76s/page]"
          ]
        },
        {
          "metadata": {
            "tags": null
          },
          "name": "stdout",
          "output_type": "stream",
          "text": [
            "429 Client Error: Too Many Requests for url: https://www.courtlistener.com/api/rest/v3/opinions/?id__gte=9378770&id__lte=9378770&author__gte=0&order_by=id&fields=plain_text,html,html_lawbox,html_columbia,html_anon_2020,xml_harvard,html_with_citations,opinions_cited,author_id,id,cluster_id\n",
            "429 Client Error: Too Many Requests for url: https://www.courtlistener.com/api/rest/v3/opinions/?id__gte=5130676&id__lte=5130676&author__gte=0&order_by=id&fields=plain_text,html,html_lawbox,html_columbia,html_anon_2020,xml_harvard,html_with_citations,opinions_cited,author_id,id,cluster_id\n"
          ]
        },
        {
          "metadata": {
            "tags": null
          },
          "name": "stderr",
          "output_type": "stream",
          "text": [
            "Fetching sub-opinions data:  40%|███▉      | 1249/3154 [15:48<07:47,  4.07page/s]"
          ]
        },
        {
          "metadata": {
            "tags": null
          },
          "name": "stdout",
          "output_type": "stream",
          "text": [
            "429 Client Error: Too Many Requests for url: https://www.courtlistener.com/api/rest/v3/opinions/?id__gte=4538236&id__lte=4538236&author__gte=0&order_by=id&fields=plain_text,html,html_lawbox,html_columbia,html_anon_2020,xml_harvard,html_with_citations,opinions_cited,author_id,id,cluster_id\n",
            "429 Client Error: Too Many Requests for url: https://www.courtlistener.com/api/rest/v3/opinions/?id__gte=9380161&id__lte=9380161&author__gte=0&order_by=id&fields=plain_text,html,html_lawbox,html_columbia,html_anon_2020,xml_harvard,html_with_citations,opinions_cited,author_id,id,cluster_id\n",
            "429 Client Error: Too Many Requests for url: https://www.courtlistener.com/api/rest/v3/opinions/?id__gte=9350653&id__lte=9350654&author__gte=0&order_by=id&fields=plain_text,html,html_lawbox,html_columbia,html_anon_2020,xml_harvard,html_with_citations,opinions_cited,author_id,id,cluster_id\n"
          ]
        },
        {
          "metadata": {
            "tags": null
          },
          "name": "stderr",
          "output_type": "stream",
          "text": [
            "\rFetching sub-opinions data:  40%|███▉      | 1250/3154 [15:48<07:30,  4.23page/s]"
          ]
        },
        {
          "metadata": {
            "tags": null
          },
          "name": "stdout",
          "output_type": "stream",
          "text": [
            "429 Client Error: Too Many Requests for url: https://www.courtlistener.com/api/rest/v3/opinions/?id__gte=5132913&id__lte=5132913&author__gte=0&order_by=id&fields=plain_text,html,html_lawbox,html_columbia,html_anon_2020,xml_harvard,html_with_citations,opinions_cited,author_id,id,cluster_id\n"
          ]
        },
        {
          "metadata": {
            "tags": null
          },
          "name": "stderr",
          "output_type": "stream",
          "text": [
            "Fetching sub-opinions data:  20%|██        | 639/3154 [19:01<15:36,  2.69page/s]"
          ]
        },
        {
          "metadata": {
            "tags": null
          },
          "name": "stdout",
          "output_type": "stream",
          "text": [
            "429 Client Error: Too Many Requests for url: https://www.courtlistener.com/api/rest/v3/opinions/?id__gte=9381558&id__lte=9381558&author__gte=0&order_by=id&fields=plain_text,html,html_lawbox,html_columbia,html_anon_2020,xml_harvard,html_with_citations,opinions_cited,author_id,id,cluster_id\n"
          ]
        },
        {
          "metadata": {
            "tags": null
          },
          "name": "stderr",
          "output_type": "stream",
          "text": [
            "\rFetching sub-opinions data:  42%|████▏     | 1314/3154 [19:01<07:24,  4.13page/s]"
          ]
        },
        {
          "metadata": {
            "tags": null
          },
          "name": "stdout",
          "output_type": "stream",
          "text": [
            "429 Client Error: Too Many Requests for url: https://www.courtlistener.com/api/rest/v3/opinions/?id__gte=5134810&id__lte=5134810&author__gte=0&order_by=id&fields=plain_text,html,html_lawbox,html_columbia,html_anon_2020,xml_harvard,html_with_citations,opinions_cited,author_id,id,cluster_id\n",
            "429 Client Error: Too Many Requests for url: https://www.courtlistener.com/api/rest/v3/opinions/?id__gte=9353862&id__lte=9353863&author__gte=0&order_by=id&fields=plain_text,html,html_lawbox,html_columbia,html_anon_2020,xml_harvard,html_with_citations,opinions_cited,author_id,id,cluster_id\n",
            "429 Client Error: Too Many Requests for url: https://www.courtlistener.com/api/rest/v3/opinions/?id__gte=4539722&id__lte=4539722&author__gte=0&order_by=id&fields=plain_text,html,html_lawbox,html_columbia,html_anon_2020,xml_harvard,html_with_citations,opinions_cited,author_id,id,cluster_id\n"
          ]
        },
        {
          "metadata": {
            "tags": null
          },
          "name": "stderr",
          "output_type": "stream",
          "text": [
            "Fetching sub-opinions data:  41%|████      | 1293/3154 [22:01<28:06:35, 54.38s/page]"
          ]
        },
        {
          "metadata": {
            "tags": null
          },
          "name": "stdout",
          "output_type": "stream",
          "text": [
            "429 Client Error: Too Many Requests for url: https://www.courtlistener.com/api/rest/v3/opinions/?id__gte=4539722&id__lte=4539722&author__gte=0&order_by=id&fields=plain_text,html,html_lawbox,html_columbia,html_anon_2020,xml_harvard,html_with_citations,opinions_cited,author_id,id,cluster_id\n",
            "429 Client Error: Too Many Requests for url: https://www.courtlistener.com/api/rest/v3/opinions/?id__gte=9381644&id__lte=9381644&author__gte=0&order_by=id&fields=plain_text,html,html_lawbox,html_columbia,html_anon_2020,xml_harvard,html_with_citations,opinions_cited,author_id,id,cluster_id\n"
          ]
        },
        {
          "metadata": {
            "tags": null
          },
          "name": "stderr",
          "output_type": "stream",
          "text": [
            "\rFetching sub-opinions data:  20%|██        | 640/3154 [22:02<38:04:07, 54.51s/page]"
          ]
        },
        {
          "metadata": {
            "tags": null
          },
          "name": "stdout",
          "output_type": "stream",
          "text": [
            "429 Client Error: Too Many Requests for url: https://www.courtlistener.com/api/rest/v3/opinions/?id__gte=5134825&id__lte=5134825&author__gte=0&order_by=id&fields=plain_text,html,html_lawbox,html_columbia,html_anon_2020,xml_harvard,html_with_citations,opinions_cited,author_id,id,cluster_id\n",
            "429 Client Error: Too Many Requests for url: https://www.courtlistener.com/api/rest/v3/opinions/?id__gte=9362899&id__lte=9362900&author__gte=0&order_by=id&fields=plain_text,html,html_lawbox,html_columbia,html_anon_2020,xml_harvard,html_with_citations,opinions_cited,author_id,id,cluster_id\n"
          ]
        },
        {
          "metadata": {
            "tags": null
          },
          "name": "stderr",
          "output_type": "stream",
          "text": [
            "Fetching sub-opinions data:  43%|████▎     | 1355/3154 [25:14<08:51,  3.38page/s]"
          ]
        },
        {
          "metadata": {
            "tags": null
          },
          "name": "stdout",
          "output_type": "stream",
          "text": [
            "429 Client Error: Too Many Requests for url: https://www.courtlistener.com/api/rest/v3/opinions/?id__gte=5136419&id__lte=5136419&author__gte=0&order_by=id&fields=plain_text,html,html_lawbox,html_columbia,html_anon_2020,xml_harvard,html_with_citations,opinions_cited,author_id,id,cluster_id\n",
            "429 Client Error: Too Many Requests for url: https://www.courtlistener.com/api/rest/v3/opinions/?id__gte=9367530&id__lte=9367531&author__gte=0&order_by=id&fields=plain_text,html,html_lawbox,html_columbia,html_anon_2020,xml_harvard,html_with_citations,opinions_cited,author_id,id,cluster_id\n"
          ]
        },
        {
          "metadata": {
            "tags": null
          },
          "name": "stderr",
          "output_type": "stream",
          "text": [
            "\rFetching sub-opinions data:  41%|████      | 1300/3155 [25:14<10:04,  3.07page/s]"
          ]
        },
        {
          "metadata": {
            "tags": null
          },
          "name": "stdout",
          "output_type": "stream",
          "text": [
            "429 Client Error: Too Many Requests for url: https://www.courtlistener.com/api/rest/v3/opinions/?id__gte=4541149&id__lte=4541149&author__gte=0&order_by=id&fields=plain_text,html,html_lawbox,html_columbia,html_anon_2020,xml_harvard,html_with_citations,opinions_cited,author_id,id,cluster_id\n",
            "429 Client Error: Too Many Requests for url: https://www.courtlistener.com/api/rest/v3/opinions/?id__gte=9382744&id__lte=9382744&author__gte=0&order_by=id&fields=plain_text,html,html_lawbox,html_columbia,html_anon_2020,xml_harvard,html_with_citations,opinions_cited,author_id,id,cluster_id\n"
          ]
        },
        {
          "metadata": {
            "tags": null
          },
          "name": "stderr",
          "output_type": "stream",
          "text": [
            "Fetching sub-opinions data:  44%|████▍     | 1389/3154 [28:26<08:55,  3.29page/s]"
          ]
        },
        {
          "metadata": {
            "tags": null
          },
          "name": "stdout",
          "output_type": "stream",
          "text": [
            "429 Client Error: Too Many Requests for url: https://www.courtlistener.com/api/rest/v3/opinions/?id__gte=9371404&id__lte=9371405&author__gte=0&order_by=id&fields=plain_text,html,html_lawbox,html_columbia,html_anon_2020,xml_harvard,html_with_citations,opinions_cited,author_id,id,cluster_id\n"
          ]
        },
        {
          "metadata": {
            "tags": null
          },
          "name": "stderr",
          "output_type": "stream",
          "text": [
            "\rFetching sub-opinions data:  42%|████▏     | 1329/3155 [28:26<11:56,  2.55page/s]"
          ]
        },
        {
          "metadata": {
            "tags": null
          },
          "name": "stdout",
          "output_type": "stream",
          "text": [
            "429 Client Error: Too Many Requests for url: https://www.courtlistener.com/api/rest/v3/opinions/?id__gte=5139686&id__lte=5139686&author__gte=0&order_by=id&fields=plain_text,html,html_lawbox,html_columbia,html_anon_2020,xml_harvard,html_with_citations,opinions_cited,author_id,id,cluster_id\n",
            "429 Client Error: Too Many Requests for url: https://www.courtlistener.com/api/rest/v3/opinions/?id__gte=4543187&id__lte=4543187&author__gte=0&order_by=id&fields=plain_text,html,html_lawbox,html_columbia,html_anon_2020,xml_harvard,html_with_citations,opinions_cited,author_id,id,cluster_id\n"
          ]
        },
        {
          "metadata": {
            "tags": null
          },
          "name": "stderr",
          "output_type": "stream",
          "text": [
            "\rFetching sub-opinions data:  42%|████▏     | 1330/3155 [28:26<15:53,  1.91page/s]"
          ]
        },
        {
          "metadata": {
            "tags": null
          },
          "name": "stdout",
          "output_type": "stream",
          "text": [
            "429 Client Error: Too Many Requests for url: https://www.courtlistener.com/api/rest/v3/opinions/?id__gte=9383992&id__lte=9383992&author__gte=0&order_by=id&fields=plain_text,html,html_lawbox,html_columbia,html_anon_2020,xml_harvard,html_with_citations,opinions_cited,author_id,id,cluster_id\n"
          ]
        },
        {
          "metadata": {
            "tags": null
          },
          "name": "stderr",
          "output_type": "stream",
          "text": [
            "Fetching sub-opinions data:  45%|████▌     | 1427/3154 [31:38<07:26,  3.87page/s]"
          ]
        },
        {
          "metadata": {
            "tags": null
          },
          "name": "stdout",
          "output_type": "stream",
          "text": [
            "429 Client Error: Too Many Requests for url: https://www.courtlistener.com/api/rest/v3/opinions/?id__gte=9376769&id__lte=9376770&author__gte=0&order_by=id&fields=plain_text,html,html_lawbox,html_columbia,html_anon_2020,xml_harvard,html_with_citations,opinions_cited,author_id,id,cluster_id\n"
          ]
        },
        {
          "metadata": {
            "tags": null
          },
          "name": "stderr",
          "output_type": "stream",
          "text": [
            "\rFetching sub-opinions data:  44%|████▍     | 1403/3154 [31:38<09:19,  3.13page/s]"
          ]
        },
        {
          "metadata": {
            "tags": null
          },
          "name": "stdout",
          "output_type": "stream",
          "text": [
            "429 Client Error: Too Many Requests for url: https://www.courtlistener.com/api/rest/v3/opinions/?id__gte=9385286&id__lte=9385286&author__gte=0&order_by=id&fields=plain_text,html,html_lawbox,html_columbia,html_anon_2020,xml_harvard,html_with_citations,opinions_cited,author_id,id,cluster_id\n",
            "429 Client Error: Too Many Requests for url: https://www.courtlistener.com/api/rest/v3/opinions/?id__gte=5141635&id__lte=5141635&author__gte=0&order_by=id&fields=plain_text,html,html_lawbox,html_columbia,html_anon_2020,xml_harvard,html_with_citations,opinions_cited,author_id,id,cluster_id\n",
            "429 Client Error: Too Many Requests for url: https://www.courtlistener.com/api/rest/v3/opinions/?id__gte=4544717&id__lte=4544717&author__gte=0&order_by=id&fields=plain_text,html,html_lawbox,html_columbia,html_anon_2020,xml_harvard,html_with_citations,opinions_cited,author_id,id,cluster_id\n"
          ]
        },
        {
          "metadata": {
            "tags": null
          },
          "name": "stderr",
          "output_type": "stream",
          "text": [
            "Fetching sub-opinions data:  24%|██▍       | 759/3154 [34:49<14:13,  2.81page/s]"
          ]
        },
        {
          "metadata": {
            "tags": null
          },
          "name": "stdout",
          "output_type": "stream",
          "text": [
            "429 Client Error: Too Many Requests for url: https://www.courtlistener.com/api/rest/v3/opinions/?id__gte=5142226&id__lte=5142226&author__gte=0&order_by=id&fields=plain_text,html,html_lawbox,html_columbia,html_anon_2020,xml_harvard,html_with_citations,opinions_cited,author_id,id,cluster_id\n",
            "429 Client Error: Too Many Requests for url: https://www.courtlistener.com/api/rest/v3/opinions/?id__gte=9381716&id__lte=9381717&author__gte=0&order_by=id&fields=plain_text,html,html_lawbox,html_columbia,html_anon_2020,xml_harvard,html_with_citations,opinions_cited,author_id,id,cluster_id\n"
          ]
        },
        {
          "metadata": {
            "tags": null
          },
          "name": "stderr",
          "output_type": "stream",
          "text": [
            "\rFetching sub-opinions data:  46%|████▋     | 1460/3154 [34:50<12:04,  2.34page/s]"
          ]
        },
        {
          "metadata": {
            "tags": null
          },
          "name": "stdout",
          "output_type": "stream",
          "text": [
            "429 Client Error: Too Many Requests for url: https://www.courtlistener.com/api/rest/v3/opinions/?id__gte=9386770&id__lte=9386770&author__gte=0&order_by=id&fields=plain_text,html,html_lawbox,html_columbia,html_anon_2020,xml_harvard,html_with_citations,opinions_cited,author_id,id,cluster_id\n",
            "429 Client Error: Too Many Requests for url: https://www.courtlistener.com/api/rest/v3/opinions/?id__gte=4546063&id__lte=4546063&author__gte=0&order_by=id&fields=plain_text,html,html_lawbox,html_columbia,html_anon_2020,xml_harvard,html_with_citations,opinions_cited,author_id,id,cluster_id\n"
          ]
        },
        {
          "metadata": {
            "tags": null
          },
          "name": "stderr",
          "output_type": "stream",
          "text": [
            "Fetching sub-opinions data:  24%|██▍       | 765/3154 [37:53<6:20:52,  9.57s/page]"
          ]
        },
        {
          "metadata": {
            "tags": null
          },
          "name": "stdout",
          "output_type": "stream",
          "text": [
            "429 Client Error: Too Many Requests for url: https://www.courtlistener.com/api/rest/v3/opinions/?id__gte=4546112&id__lte=4546112&author__gte=0&order_by=id&fields=plain_text,html,html_lawbox,html_columbia,html_anon_2020,xml_harvard,html_with_citations,opinions_cited,author_id,id,cluster_id\n"
          ]
        },
        {
          "metadata": {
            "tags": null
          },
          "name": "stderr",
          "output_type": "stream",
          "text": [
            "\rFetching sub-opinions data:  45%|████▌     | 1435/3154 [37:53<4:33:07,  9.53s/page]"
          ]
        },
        {
          "metadata": {
            "tags": null
          },
          "name": "stdout",
          "output_type": "stream",
          "text": [
            "429 Client Error: Too Many Requests for url: https://www.courtlistener.com/api/rest/v3/opinions/?id__gte=9387052&id__lte=9387052&author__gte=0&order_by=id&fields=plain_text,html,html_lawbox,html_columbia,html_anon_2020,xml_harvard,html_with_citations,opinions_cited,author_id,id,cluster_id\n",
            "429 Client Error: Too Many Requests for url: https://www.courtlistener.com/api/rest/v3/opinions/?id__gte=9382027&id__lte=9382028&author__gte=0&order_by=id&fields=plain_text,html,html_lawbox,html_columbia,html_anon_2020,xml_harvard,html_with_citations,opinions_cited,author_id,id,cluster_id\n",
            "429 Client Error: Too Many Requests for url: https://www.courtlistener.com/api/rest/v3/opinions/?id__gte=5142271&id__lte=5142271&author__gte=0&order_by=id&fields=plain_text,html,html_lawbox,html_columbia,html_anon_2020,xml_harvard,html_with_citations,opinions_cited,author_id,id,cluster_id\n",
            "429 Client Error: Too Many Requests for url: https://www.courtlistener.com/api/rest/v3/opinions/?id__gte=4546112&id__lte=4546112&author__gte=0&order_by=id&fields=plain_text,html,html_lawbox,html_columbia,html_anon_2020,xml_harvard,html_with_citations,opinions_cited,author_id,id,cluster_id\n",
            "429 Client Error: Too Many Requests for url: https://www.courtlistener.com/api/rest/v3/opinions/?id__gte=5142271&id__lte=5142271&author__gte=0&order_by=id&fields=plain_text,html,html_lawbox,html_columbia,html_anon_2020,xml_harvard,html_with_citations,opinions_cited,author_id,id,cluster_id\n",
            "429 Client Error: Too Many Requests for url: https://www.courtlistener.com/api/rest/v3/opinions/?id__gte=9382027&id__lte=9382028&author__gte=0&order_by=id&fields=plain_text,html,html_lawbox,html_columbia,html_anon_2020,xml_harvard,html_with_citations,opinions_cited,author_id,id,cluster_id\n",
            "429 Client Error: Too Many Requests for url: https://www.courtlistener.com/api/rest/v3/opinions/?id__gte=9387052&id__lte=9387052&author__gte=0&order_by=id&fields=plain_text,html,html_lawbox,html_columbia,html_anon_2020,xml_harvard,html_with_citations,opinions_cited,author_id,id,cluster_id\n",
            "429 Client Error: Too Many Requests for url: https://www.courtlistener.com/api/rest/v3/opinions/?id__gte=5142271&id__lte=5142271&author__gte=0&order_by=id&fields=plain_text,html,html_lawbox,html_columbia,html_anon_2020,xml_harvard,html_with_citations,opinions_cited,author_id,id,cluster_id\n",
            "429 Client Error: Too Many Requests for url: https://www.courtlistener.com/api/rest/v3/opinions/?id__gte=4546112&id__lte=4546112&author__gte=0&order_by=id&fields=plain_text,html,html_lawbox,html_columbia,html_anon_2020,xml_harvard,html_with_citations,opinions_cited,author_id,id,cluster_id\n",
            "429 Client Error: Too Many Requests for url: https://www.courtlistener.com/api/rest/v3/opinions/?id__gte=9382027&id__lte=9382028&author__gte=0&order_by=id&fields=plain_text,html,html_lawbox,html_columbia,html_anon_2020,xml_harvard,html_with_citations,opinions_cited,author_id,id,cluster_id\n",
            "429 Client Error: Too Many Requests for url: https://www.courtlistener.com/api/rest/v3/opinions/?id__gte=9387052&id__lte=9387052&author__gte=0&order_by=id&fields=plain_text,html,html_lawbox,html_columbia,html_anon_2020,xml_harvard,html_with_citations,opinions_cited,author_id,id,cluster_id\n",
            "429 Client Error: Too Many Requests for url: https://www.courtlistener.com/api/rest/v3/opinions/?id__gte=5142271&id__lte=5142271&author__gte=0&order_by=id&fields=plain_text,html,html_lawbox,html_columbia,html_anon_2020,xml_harvard,html_with_citations,opinions_cited,author_id,id,cluster_id\n",
            "429 Client Error: Too Many Requests for url: https://www.courtlistener.com/api/rest/v3/opinions/?id__gte=4546112&id__lte=4546112&author__gte=0&order_by=id&fields=plain_text,html,html_lawbox,html_columbia,html_anon_2020,xml_harvard,html_with_citations,opinions_cited,author_id,id,cluster_id\n",
            "429 Client Error: Too Many Requests for url: https://www.courtlistener.com/api/rest/v3/opinions/?id__gte=9382027&id__lte=9382028&author__gte=0&order_by=id&fields=plain_text,html,html_lawbox,html_columbia,html_anon_2020,xml_harvard,html_with_citations,opinions_cited,author_id,id,cluster_id\n",
            "429 Client Error: Too Many Requests for url: https://www.courtlistener.com/api/rest/v3/opinions/?id__gte=9387052&id__lte=9387052&author__gte=0&order_by=id&fields=plain_text,html,html_lawbox,html_columbia,html_anon_2020,xml_harvard,html_with_citations,opinions_cited,author_id,id,cluster_id\n",
            "429 Client Error: Too Many Requests for url: https://www.courtlistener.com/api/rest/v3/opinions/?id__gte=5142271&id__lte=5142271&author__gte=0&order_by=id&fields=plain_text,html,html_lawbox,html_columbia,html_anon_2020,xml_harvard,html_with_citations,opinions_cited,author_id,id,cluster_id\n",
            "429 Client Error: Too Many Requests for url: https://www.courtlistener.com/api/rest/v3/opinions/?id__gte=4546112&id__lte=4546112&author__gte=0&order_by=id&fields=plain_text,html,html_lawbox,html_columbia,html_anon_2020,xml_harvard,html_with_citations,opinions_cited,author_id,id,cluster_id\n",
            "429 Client Error: Too Many Requests for url: https://www.courtlistener.com/api/rest/v3/opinions/?id__gte=9382027&id__lte=9382028&author__gte=0&order_by=id&fields=plain_text,html,html_lawbox,html_columbia,html_anon_2020,xml_harvard,html_with_citations,opinions_cited,author_id,id,cluster_id\n",
            "429 Client Error: Too Many Requests for url: https://www.courtlistener.com/api/rest/v3/opinions/?id__gte=9387052&id__lte=9387052&author__gte=0&order_by=id&fields=plain_text,html,html_lawbox,html_columbia,html_anon_2020,xml_harvard,html_with_citations,opinions_cited,author_id,id,cluster_id\n",
            "429 Client Error: Too Many Requests for url: https://www.courtlistener.com/api/rest/v3/opinions/?id__gte=5142271&id__lte=5142271&author__gte=0&order_by=id&fields=plain_text,html,html_lawbox,html_columbia,html_anon_2020,xml_harvard,html_with_citations,opinions_cited,author_id,id,cluster_id\n",
            "429 Client Error: Too Many Requests for url: https://www.courtlistener.com/api/rest/v3/opinions/?id__gte=9382027&id__lte=9382028&author__gte=0&order_by=id&fields=plain_text,html,html_lawbox,html_columbia,html_anon_2020,xml_harvard,html_with_citations,opinions_cited,author_id,id,cluster_id\n",
            "429 Client Error: Too Many Requests for url: https://www.courtlistener.com/api/rest/v3/opinions/?id__gte=4546112&id__lte=4546112&author__gte=0&order_by=id&fields=plain_text,html,html_lawbox,html_columbia,html_anon_2020,xml_harvard,html_with_citations,opinions_cited,author_id,id,cluster_id\n",
            "429 Client Error: Too Many Requests for url: https://www.courtlistener.com/api/rest/v3/opinions/?id__gte=9387052&id__lte=9387052&author__gte=0&order_by=id&fields=plain_text,html,html_lawbox,html_columbia,html_anon_2020,xml_harvard,html_with_citations,opinions_cited,author_id,id,cluster_id\n",
            "429 Client Error: Too Many Requests for url: https://www.courtlistener.com/api/rest/v3/opinions/?id__gte=5142271&id__lte=5142271&author__gte=0&order_by=id&fields=plain_text,html,html_lawbox,html_columbia,html_anon_2020,xml_harvard,html_with_citations,opinions_cited,author_id,id,cluster_id\n",
            "429 Client Error: Too Many Requests for url: https://www.courtlistener.com/api/rest/v3/opinions/?id__gte=4546112&id__lte=4546112&author__gte=0&order_by=id&fields=plain_text,html,html_lawbox,html_columbia,html_anon_2020,xml_harvard,html_with_citations,opinions_cited,author_id,id,cluster_id\n",
            "429 Client Error: Too Many Requests for url: https://www.courtlistener.com/api/rest/v3/opinions/?id__gte=9387052&id__lte=9387052&author__gte=0&order_by=id&fields=plain_text,html,html_lawbox,html_columbia,html_anon_2020,xml_harvard,html_with_citations,opinions_cited,author_id,id,cluster_id\n",
            "429 Client Error: Too Many Requests for url: https://www.courtlistener.com/api/rest/v3/opinions/?id__gte=9382027&id__lte=9382028&author__gte=0&order_by=id&fields=plain_text,html,html_lawbox,html_columbia,html_anon_2020,xml_harvard,html_with_citations,opinions_cited,author_id,id,cluster_id\n",
            "429 Client Error: Too Many Requests for url: https://www.courtlistener.com/api/rest/v3/opinions/?id__gte=5142271&id__lte=5142271&author__gte=0&order_by=id&fields=plain_text,html,html_lawbox,html_columbia,html_anon_2020,xml_harvard,html_with_citations,opinions_cited,author_id,id,cluster_id\n",
            "429 Client Error: Too Many Requests for url: https://www.courtlistener.com/api/rest/v3/opinions/?id__gte=9382027&id__lte=9382028&author__gte=0&order_by=id&fields=plain_text,html,html_lawbox,html_columbia,html_anon_2020,xml_harvard,html_with_citations,opinions_cited,author_id,id,cluster_id\n",
            "429 Client Error: Too Many Requests for url: https://www.courtlistener.com/api/rest/v3/opinions/?id__gte=9387052&id__lte=9387052&author__gte=0&order_by=id&fields=plain_text,html,html_lawbox,html_columbia,html_anon_2020,xml_harvard,html_with_citations,opinions_cited,author_id,id,cluster_id\n",
            "429 Client Error: Too Many Requests for url: https://www.courtlistener.com/api/rest/v3/opinions/?id__gte=4546112&id__lte=4546112&author__gte=0&order_by=id&fields=plain_text,html,html_lawbox,html_columbia,html_anon_2020,xml_harvard,html_with_citations,opinions_cited,author_id,id,cluster_id\n"
          ]
        },
        {
          "metadata": {
            "tags": null
          },
          "name": "stderr",
          "output_type": "stream",
          "text": [
            "Fetching sub-opinions data:  65%|██████▍   | 2046/3154 [1:05:22<06:07,  3.02page/s]"
          ]
        },
        {
          "metadata": {
            "tags": null
          },
          "name": "stdout",
          "output_type": "stream",
          "text": [
            "502 Server Error: Bad Gateway for url: https://www.courtlistener.com/api/rest/v3/opinions/?id__gte=4573764&id__lte=4573764&author__gte=0&order_by=id&fields=plain_text,html,html_lawbox,html_columbia,html_anon_2020,xml_harvard,html_with_citations,opinions_cited,author_id,id,cluster_id\n"
          ]
        },
        {
          "metadata": {
            "tags": null
          },
          "name": "stderr",
          "output_type": "stream",
          "text": [
            "Fetching sub-opinions data:  65%|██████▌   | 2056/3154 [1:05:24<04:18,  4.24page/s]"
          ]
        },
        {
          "metadata": {
            "tags": null
          },
          "name": "stdout",
          "output_type": "stream",
          "text": [
            "429 Client Error: Too Many Requests for url: https://www.courtlistener.com/api/rest/v3/opinions/?id__gte=9694968&id__lte=9694968&author__gte=0&order_by=id&fields=plain_text,html,html_lawbox,html_columbia,html_anon_2020,xml_harvard,html_with_citations,opinions_cited,author_id,id,cluster_id\n",
            "429 Client Error: Too Many Requests for url: https://www.courtlistener.com/api/rest/v3/opinions/?id__gte=6327452&id__lte=6327452&author__gte=0&order_by=id&fields=plain_text,html,html_lawbox,html_columbia,html_anon_2020,xml_harvard,html_with_citations,opinions_cited,author_id,id,cluster_id\n"
          ]
        },
        {
          "metadata": {
            "tags": null
          },
          "name": "stderr",
          "output_type": "stream",
          "text": [
            "Fetching sub-opinions data:  42%|████▏     | 1322/3154 [1:05:29<08:10,  3.74page/s]"
          ]
        },
        {
          "metadata": {
            "tags": null
          },
          "name": "stdout",
          "output_type": "stream",
          "text": [
            "429 Client Error: Too Many Requests for url: https://www.courtlistener.com/api/rest/v3/opinions/?id__gte=4355841&id__lte=4355841&author__gte=0&order_by=id&fields=plain_text,html,html_lawbox,html_columbia,html_anon_2020,xml_harvard,html_with_citations,opinions_cited,author_id,id,cluster_id\n"
          ]
        },
        {
          "metadata": {
            "tags": null
          },
          "name": "stderr",
          "output_type": "stream",
          "text": [
            "Fetching sub-opinions data:  70%|██████▉   | 2198/3154 [1:09:03<04:41,  3.40page/s]"
          ]
        },
        {
          "metadata": {
            "tags": null
          },
          "name": "stdout",
          "output_type": "stream",
          "text": [
            "502 Server Error: Bad Gateway for url: https://www.courtlistener.com/api/rest/v3/opinions/?id__gte=4582855&id__lte=4582855&author__gte=0&order_by=id&fields=plain_text,html,html_lawbox,html_columbia,html_anon_2020,xml_harvard,html_with_citations,opinions_cited,author_id,id,cluster_id\n"
          ]
        },
        {
          "metadata": {
            "tags": null
          },
          "name": "stderr",
          "output_type": "stream",
          "text": [
            "Fetching sub-opinions data:  46%|████▋     | 1465/3154 [1:09:11<08:00,  3.52page/s]"
          ]
        },
        {
          "metadata": {
            "tags": null
          },
          "name": "stdout",
          "output_type": "stream",
          "text": [
            "502 Server Error: Bad Gateway for url: https://www.courtlistener.com/api/rest/v3/opinions/?id__gte=9841484&id__lte=9841484&author__gte=0&order_by=id&fields=plain_text,html,html_lawbox,html_columbia,html_anon_2020,xml_harvard,html_with_citations,opinions_cited,author_id,id,cluster_id\n",
            "502 Server Error: Bad Gateway for url: https://www.courtlistener.com/api/rest/v3/opinions/?id__gte=6334205&id__lte=6334205&author__gte=0&order_by=id&fields=plain_text,html,html_lawbox,html_columbia,html_anon_2020,xml_harvard,html_with_citations,opinions_cited,author_id,id,cluster_id\n"
          ]
        },
        {
          "metadata": {
            "tags": null
          },
          "name": "stderr",
          "output_type": "stream",
          "text": [
            "Fetching sub-opinions data:  47%|████▋     | 1467/3154 [1:09:11<07:05,  3.96page/s]"
          ]
        },
        {
          "metadata": {
            "tags": null
          },
          "name": "stdout",
          "output_type": "stream",
          "text": [
            "502 Server Error: Bad Gateway for url: https://www.courtlistener.com/api/rest/v3/opinions/?id__gte=4362713&id__lte=4362713&author__gte=0&order_by=id&fields=plain_text,html,html_lawbox,html_columbia,html_anon_2020,xml_harvard,html_with_citations,opinions_cited,author_id,id,cluster_id\n"
          ]
        },
        {
          "metadata": {
            "tags": null
          },
          "name": "stderr",
          "output_type": "stream",
          "text": [
            "Fetching sub-opinions data:  79%|███████▉  | 2492/3154 [1:13:43<04:17,  2.57page/s]"
          ]
        },
        {
          "metadata": {
            "tags": null
          },
          "name": "stdout",
          "output_type": "stream",
          "text": [
            "429 Client Error: Too Many Requests for url: https://www.courtlistener.com/api/rest/v3/opinions/?id__gte=9896545&id__lte=9896545&author__gte=0&order_by=id&fields=plain_text,html,html_lawbox,html_columbia,html_anon_2020,xml_harvard,html_with_citations,opinions_cited,author_id,id,cluster_id\n"
          ]
        },
        {
          "metadata": {
            "tags": null
          },
          "name": "stderr",
          "output_type": "stream",
          "text": [
            "Fetching sub-opinions data:  56%|█████▌    | 1769/3154 [1:13:43<08:53,  2.59page/s]"
          ]
        },
        {
          "metadata": {
            "tags": null
          },
          "name": "stdout",
          "output_type": "stream",
          "text": [
            "429 Client Error: Too Many Requests for url: https://www.courtlistener.com/api/rest/v3/opinions/?id__gte=6346116&id__lte=6346116&author__gte=0&order_by=id&fields=plain_text,html,html_lawbox,html_columbia,html_anon_2020,xml_harvard,html_with_citations,opinions_cited,author_id,id,cluster_id\n",
            "429 Client Error: Too Many Requests for url: https://www.courtlistener.com/api/rest/v3/opinions/?id__gte=4649239&id__lte=4649239&author__gte=0&order_by=id&fields=plain_text,html,html_lawbox,html_columbia,html_anon_2020,xml_harvard,html_with_citations,opinions_cited,author_id,id,cluster_id\n",
            "429 Client Error: Too Many Requests for url: https://www.courtlistener.com/api/rest/v3/opinions/?id__gte=4377355&id__lte=4377355&author__gte=0&order_by=id&fields=plain_text,html,html_lawbox,html_columbia,html_anon_2020,xml_harvard,html_with_citations,opinions_cited,author_id,id,cluster_id\n"
          ]
        },
        {
          "metadata": {
            "tags": null
          },
          "name": "stderr",
          "output_type": "stream",
          "text": [
            "Fetching sub-opinions data:  81%|████████▏ | 2564/3154 [1:16:58<02:48,  3.49page/s]"
          ]
        },
        {
          "metadata": {
            "tags": null
          },
          "name": "stdout",
          "output_type": "stream",
          "text": [
            "429 Client Error: Too Many Requests for url: https://www.courtlistener.com/api/rest/v3/opinions/?id__gte=6347978&id__lte=6347978&author__gte=0&order_by=id&fields=plain_text,html,html_lawbox,html_columbia,html_anon_2020,xml_harvard,html_with_citations,opinions_cited,author_id,id,cluster_id\n",
            "429 Client Error: Too Many Requests for url: https://www.courtlistener.com/api/rest/v3/opinions/?id__gte=4380196&id__lte=4380196&author__gte=0&order_by=id&fields=plain_text,html,html_lawbox,html_columbia,html_anon_2020,xml_harvard,html_with_citations,opinions_cited,author_id,id,cluster_id\n",
            "429 Client Error: Too Many Requests for url: https://www.courtlistener.com/api/rest/v3/opinions/?id__gte=4651111&id__lte=4651111&author__gte=0&order_by=id&fields=plain_text,html,html_lawbox,html_columbia,html_anon_2020,xml_harvard,html_with_citations,opinions_cited,author_id,id,cluster_id\n"
          ]
        },
        {
          "metadata": {
            "tags": null
          },
          "name": "stderr",
          "output_type": "stream",
          "text": [
            "\rFetching sub-opinions data:  80%|████████  | 2535/3155 [1:16:58<03:32,  2.92page/s]"
          ]
        },
        {
          "metadata": {
            "tags": null
          },
          "name": "stdout",
          "output_type": "stream",
          "text": [
            "429 Client Error: Too Many Requests for url: https://www.courtlistener.com/api/rest/v3/opinions/?id__gte=9901186&id__lte=9901186&author__gte=0&order_by=id&fields=plain_text,html,html_lawbox,html_columbia,html_anon_2020,xml_harvard,html_with_citations,opinions_cited,author_id,id,cluster_id\n"
          ]
        },
        {
          "metadata": {
            "tags": null
          },
          "name": "stderr",
          "output_type": "stream",
          "text": [
            "Fetching sub-opinions data:  82%|████████▏ | 2572/3155 [1:20:10<03:10,  3.06page/s]"
          ]
        },
        {
          "metadata": {
            "tags": null
          },
          "name": "stdout",
          "output_type": "stream",
          "text": [
            "429 Client Error: Too Many Requests for url: https://www.courtlistener.com/api/rest/v3/opinions/?id__gte=4382209&id__lte=4382209&author__gte=0&order_by=id&fields=plain_text,html,html_lawbox,html_columbia,html_anon_2020,xml_harvard,html_with_citations,opinions_cited,author_id,id,cluster_id\n"
          ]
        },
        {
          "metadata": {
            "tags": null
          },
          "name": "stderr",
          "output_type": "stream",
          "text": [
            "\rFetching sub-opinions data:  82%|████████▏ | 2601/3154 [1:20:10<02:54,  3.17page/s]"
          ]
        },
        {
          "metadata": {
            "tags": null
          },
          "name": "stdout",
          "output_type": "stream",
          "text": [
            "429 Client Error: Too Many Requests for url: https://www.courtlistener.com/api/rest/v3/opinions/?id__gte=6349838&id__lte=6349838&author__gte=0&order_by=id&fields=plain_text,html,html_lawbox,html_columbia,html_anon_2020,xml_harvard,html_with_citations,opinions_cited,author_id,id,cluster_id\n",
            "429 Client Error: Too Many Requests for url: https://www.courtlistener.com/api/rest/v3/opinions/?id__gte=9905416&id__lte=9905416&author__gte=0&order_by=id&fields=plain_text,html,html_lawbox,html_columbia,html_anon_2020,xml_harvard,html_with_citations,opinions_cited,author_id,id,cluster_id\n",
            "429 Client Error: Too Many Requests for url: https://www.courtlistener.com/api/rest/v3/opinions/?id__gte=4652965&id__lte=4652965&author__gte=0&order_by=id&fields=plain_text,html,html_lawbox,html_columbia,html_anon_2020,xml_harvard,html_with_citations,opinions_cited,author_id,id,cluster_id\n"
          ]
        },
        {
          "metadata": {
            "tags": null
          },
          "name": "stderr",
          "output_type": "stream",
          "text": [
            "Fetching sub-opinions data:  82%|████████▏ | 2581/3154 [1:23:11<8:39:47, 54.43s/page]"
          ]
        },
        {
          "metadata": {
            "tags": null
          },
          "name": "stdout",
          "output_type": "stream",
          "text": [
            "429 Client Error: Too Many Requests for url: https://www.courtlistener.com/api/rest/v3/opinions/?id__gte=4382375&id__lte=4382375&author__gte=0&order_by=id&fields=plain_text,html,html_lawbox,html_columbia,html_anon_2020,xml_harvard,html_with_citations,opinions_cited,author_id,id,cluster_id\n",
            "429 Client Error: Too Many Requests for url: https://www.courtlistener.com/api/rest/v3/opinions/?id__gte=9905418&id__lte=9905418&author__gte=0&order_by=id&fields=plain_text,html,html_lawbox,html_columbia,html_anon_2020,xml_harvard,html_with_citations,opinions_cited,author_id,id,cluster_id\n"
          ]
        },
        {
          "metadata": {
            "tags": null
          },
          "name": "stderr",
          "output_type": "stream",
          "text": [
            "\rFetching sub-opinions data:  82%|████████▏ | 2602/3154 [1:23:11<8:20:55, 54.45s/page]"
          ]
        },
        {
          "metadata": {
            "tags": null
          },
          "name": "stdout",
          "output_type": "stream",
          "text": [
            "429 Client Error: Too Many Requests for url: https://www.courtlistener.com/api/rest/v3/opinions/?id__gte=6349930&id__lte=6349930&author__gte=0&order_by=id&fields=plain_text,html,html_lawbox,html_columbia,html_anon_2020,xml_harvard,html_with_citations,opinions_cited,author_id,id,cluster_id\n",
            "429 Client Error: Too Many Requests for url: https://www.courtlistener.com/api/rest/v3/opinions/?id__gte=4652970&id__lte=4652970&author__gte=0&order_by=id&fields=plain_text,html,html_lawbox,html_columbia,html_anon_2020,xml_harvard,html_with_citations,opinions_cited,author_id,id,cluster_id\n"
          ]
        },
        {
          "metadata": {
            "tags": null
          },
          "name": "stderr",
          "output_type": "stream",
          "text": [
            "Fetching sub-opinions data:  60%|█████▉    | 1886/3154 [1:26:22<05:11,  4.07page/s]"
          ]
        },
        {
          "metadata": {
            "tags": null
          },
          "name": "stdout",
          "output_type": "stream",
          "text": [
            "429 Client Error: Too Many Requests for url: https://www.courtlistener.com/api/rest/v3/opinions/?id__gte=9906526&id__lte=9906526&author__gte=0&order_by=id&fields=plain_text,html,html_lawbox,html_columbia,html_anon_2020,xml_harvard,html_with_citations,opinions_cited,author_id,id,cluster_id\n",
            "429 Client Error: Too Many Requests for url: https://www.courtlistener.com/api/rest/v3/opinions/?id__gte=4654411&id__lte=4654411&author__gte=0&order_by=id&fields=plain_text,html,html_lawbox,html_columbia,html_anon_2020,xml_harvard,html_with_citations,opinions_cited,author_id,id,cluster_id\n",
            "429 Client Error: Too Many Requests for url: https://www.courtlistener.com/api/rest/v3/opinions/?id__gte=6352523&id__lte=6352523&author__gte=0&order_by=id&fields=plain_text,html,html_lawbox,html_columbia,html_anon_2020,xml_harvard,html_with_citations,opinions_cited,author_id,id,cluster_id\n",
            "429 Client Error: Too Many Requests for url: https://www.courtlistener.com/api/rest/v3/opinions/?id__gte=4384260&id__lte=4384260&author__gte=0&order_by=id&fields=plain_text,html,html_lawbox,html_columbia,html_anon_2020,xml_harvard,html_with_citations,opinions_cited,author_id,id,cluster_id\n"
          ]
        },
        {
          "metadata": {
            "tags": null
          },
          "name": "stderr",
          "output_type": "stream",
          "text": [
            "Fetching sub-opinions data:  61%|██████    | 1920/3154 [1:29:33<05:37,  3.65page/s]"
          ]
        },
        {
          "metadata": {
            "tags": null
          },
          "name": "stdout",
          "output_type": "stream",
          "text": [
            "429 Client Error: Too Many Requests for url: https://www.courtlistener.com/api/rest/v3/opinions/?id__gte=9908219&id__lte=9908219&author__gte=0&order_by=id&fields=plain_text,html,html_lawbox,html_columbia,html_anon_2020,xml_harvard,html_with_citations,opinions_cited,author_id,id,cluster_id\n",
            "429 Client Error: Too Many Requests for url: https://www.courtlistener.com/api/rest/v3/opinions/?id__gte=6495393&id__lte=6495393&author__gte=0&order_by=id&fields=plain_text,html,html_lawbox,html_columbia,html_anon_2020,xml_harvard,html_with_citations,opinions_cited,author_id,id,cluster_id\n",
            "429 Client Error: Too Many Requests for url: https://www.courtlistener.com/api/rest/v3/opinions/?id__gte=4385955&id__lte=4385955&author__gte=0&order_by=id&fields=plain_text,html,html_lawbox,html_columbia,html_anon_2020,xml_harvard,html_with_citations,opinions_cited,author_id,id,cluster_id\n",
            "429 Client Error: Too Many Requests for url: https://www.courtlistener.com/api/rest/v3/opinions/?id__gte=4656306&id__lte=4656306&author__gte=0&order_by=id&fields=plain_text,html,html_lawbox,html_columbia,html_anon_2020,xml_harvard,html_with_citations,opinions_cited,author_id,id,cluster_id\n"
          ]
        },
        {
          "metadata": {
            "tags": null
          },
          "name": "stderr",
          "output_type": "stream",
          "text": [
            "Fetching sub-opinions data:  62%|██████▏   | 1956/3154 [1:32:44<05:40,  3.52page/s]"
          ]
        },
        {
          "metadata": {
            "tags": null
          },
          "name": "stdout",
          "output_type": "stream",
          "text": [
            "429 Client Error: Too Many Requests for url: https://www.courtlistener.com/api/rest/v3/opinions/?id__gte=6496844&id__lte=6496844&author__gte=0&order_by=id&fields=plain_text,html,html_lawbox,html_columbia,html_anon_2020,xml_harvard,html_with_citations,opinions_cited,author_id,id,cluster_id\n"
          ]
        },
        {
          "metadata": {
            "tags": null
          },
          "name": "stderr",
          "output_type": "stream",
          "text": [
            "Fetching sub-opinions data:  86%|████████▌ | 2707/3154 [1:32:45<02:18,  3.22page/s]"
          ]
        },
        {
          "metadata": {
            "tags": null
          },
          "name": "stdout",
          "output_type": "stream",
          "text": [
            "429 Client Error: Too Many Requests for url: https://www.courtlistener.com/api/rest/v3/opinions/?id__gte=4388710&id__lte=4388710&author__gte=0&order_by=id&fields=plain_text,html,html_lawbox,html_columbia,html_anon_2020,xml_harvard,html_with_citations,opinions_cited,author_id,id,cluster_id\n",
            "429 Client Error: Too Many Requests for url: https://www.courtlistener.com/api/rest/v3/opinions/?id__gte=9909277&id__lte=9909277&author__gte=0&order_by=id&fields=plain_text,html,html_lawbox,html_columbia,html_anon_2020,xml_harvard,html_with_citations,opinions_cited,author_id,id,cluster_id\n",
            "429 Client Error: Too Many Requests for url: https://www.courtlistener.com/api/rest/v3/opinions/?id__gte=4657766&id__lte=4657766&author__gte=0&order_by=id&fields=plain_text,html,html_lawbox,html_columbia,html_anon_2020,xml_harvard,html_with_citations,opinions_cited,author_id,id,cluster_id\n"
          ]
        },
        {
          "metadata": {
            "tags": null
          },
          "name": "stderr",
          "output_type": "stream",
          "text": [
            "Fetching sub-opinions data:  63%|██████▎   | 1987/3154 [1:35:55<05:39,  3.44page/s]"
          ]
        },
        {
          "metadata": {
            "tags": null
          },
          "name": "stdout",
          "output_type": "stream",
          "text": [
            "429 Client Error: Too Many Requests for url: https://www.courtlistener.com/api/rest/v3/opinions/?id__gte=4391042&id__lte=4391042&author__gte=0&order_by=id&fields=plain_text,html,html_lawbox,html_columbia,html_anon_2020,xml_harvard,html_with_citations,opinions_cited,author_id,id,cluster_id\n"
          ]
        },
        {
          "metadata": {
            "tags": null
          },
          "name": "stderr",
          "output_type": "stream",
          "text": [
            "Fetching sub-opinions data:  87%|████████▋ | 2736/3154 [1:35:55<03:01,  2.30page/s]"
          ]
        },
        {
          "metadata": {
            "tags": null
          },
          "name": "stdout",
          "output_type": "stream",
          "text": [
            "429 Client Error: Too Many Requests for url: https://www.courtlistener.com/api/rest/v3/opinions/?id__gte=9910509&id__lte=9910509&author__gte=0&order_by=id&fields=plain_text,html,html_lawbox,html_columbia,html_anon_2020,xml_harvard,html_with_citations,opinions_cited,author_id,id,cluster_id\n",
            "429 Client Error: Too Many Requests for url: https://www.courtlistener.com/api/rest/v3/opinions/?id__gte=6498000&id__lte=6498000&author__gte=0&order_by=id&fields=plain_text,html,html_lawbox,html_columbia,html_anon_2020,xml_harvard,html_with_citations,opinions_cited,author_id,id,cluster_id\n",
            "429 Client Error: Too Many Requests for url: https://www.courtlistener.com/api/rest/v3/opinions/?id__gte=4659386&id__lte=4659386&author__gte=0&order_by=id&fields=plain_text,html,html_lawbox,html_columbia,html_anon_2020,xml_harvard,html_with_citations,opinions_cited,author_id,id,cluster_id\n"
          ]
        },
        {
          "metadata": {
            "tags": null
          },
          "name": "stderr",
          "output_type": "stream",
          "text": [
            "Fetching sub-opinions data:  87%|████████▋ | 2742/3154 [1:38:58<1:05:00,  9.47s/page]"
          ]
        },
        {
          "metadata": {
            "tags": null
          },
          "name": "stdout",
          "output_type": "stream",
          "text": [
            "429 Client Error: Too Many Requests for url: https://www.courtlistener.com/api/rest/v3/opinions/?id__gte=4391667&id__lte=4391667&author__gte=0&order_by=id&fields=plain_text,html,html_lawbox,html_columbia,html_anon_2020,xml_harvard,html_with_citations,opinions_cited,author_id,id,cluster_id\n",
            "429 Client Error: Too Many Requests for url: https://www.courtlistener.com/api/rest/v3/opinions/?id__gte=6498183&id__lte=6498183&author__gte=0&order_by=id&fields=plain_text,html,html_lawbox,html_columbia,html_anon_2020,xml_harvard,html_with_citations,opinions_cited,author_id,id,cluster_id\n",
            "429 Client Error: Too Many Requests for url: https://www.courtlistener.com/api/rest/v3/opinions/?id__gte=4659657&id__lte=4659657&author__gte=0&order_by=id&fields=plain_text,html,html_lawbox,html_columbia,html_anon_2020,xml_harvard,html_with_citations,opinions_cited,author_id,id,cluster_id\n"
          ]
        },
        {
          "metadata": {
            "tags": null
          },
          "name": "stderr",
          "output_type": "stream",
          "text": [
            "\rFetching sub-opinions data:  86%|████████▌ | 2711/3155 [1:38:58<1:10:56,  9.59s/page]"
          ]
        },
        {
          "output_type": "stream",
          "name": "stdout",
          "text": [
            "429 Client Error: Too Many Requests for url: https://www.courtlistener.com/api/rest/v3/opinions/?id__gte=9910605&id__lte=9910605&author__gte=0&order_by=id&fields=plain_text,html,html_lawbox,html_columbia,html_anon_2020,xml_harvard,html_with_citations,opinions_cited,author_id,id,cluster_id\n",
            "429 Client Error: Too Many Requests for url: https://www.courtlistener.com/api/rest/v3/opinions/?id__gte=6498183&id__lte=6498183&author__gte=0&order_by=id&fields=plain_text,html,html_lawbox,html_columbia,html_anon_2020,xml_harvard,html_with_citations,opinions_cited,author_id,id,cluster_id\n",
            "429 Client Error: Too Many Requests for url: https://www.courtlistener.com/api/rest/v3/opinions/?id__gte=4659657&id__lte=4659657&author__gte=0&order_by=id&fields=plain_text,html,html_lawbox,html_columbia,html_anon_2020,xml_harvard,html_with_citations,opinions_cited,author_id,id,cluster_id\n",
            "429 Client Error: Too Many Requests for url: https://www.courtlistener.com/api/rest/v3/opinions/?id__gte=4391667&id__lte=4391667&author__gte=0&order_by=id&fields=plain_text,html,html_lawbox,html_columbia,html_anon_2020,xml_harvard,html_with_citations,opinions_cited,author_id,id,cluster_id\n",
            "429 Client Error: Too Many Requests for url: https://www.courtlistener.com/api/rest/v3/opinions/?id__gte=9910605&id__lte=9910605&author__gte=0&order_by=id&fields=plain_text,html,html_lawbox,html_columbia,html_anon_2020,xml_harvard,html_with_citations,opinions_cited,author_id,id,cluster_id\n",
            "429 Client Error: Too Many Requests for url: https://www.courtlistener.com/api/rest/v3/opinions/?id__gte=4659657&id__lte=4659657&author__gte=0&order_by=id&fields=plain_text,html,html_lawbox,html_columbia,html_anon_2020,xml_harvard,html_with_citations,opinions_cited,author_id,id,cluster_id\n",
            "429 Client Error: Too Many Requests for url: https://www.courtlistener.com/api/rest/v3/opinions/?id__gte=6498183&id__lte=6498183&author__gte=0&order_by=id&fields=plain_text,html,html_lawbox,html_columbia,html_anon_2020,xml_harvard,html_with_citations,opinions_cited,author_id,id,cluster_id\n",
            "429 Client Error: Too Many Requests for url: https://www.courtlistener.com/api/rest/v3/opinions/?id__gte=4391667&id__lte=4391667&author__gte=0&order_by=id&fields=plain_text,html,html_lawbox,html_columbia,html_anon_2020,xml_harvard,html_with_citations,opinions_cited,author_id,id,cluster_id\n",
            "429 Client Error: Too Many Requests for url: https://www.courtlistener.com/api/rest/v3/opinions/?id__gte=9910605&id__lte=9910605&author__gte=0&order_by=id&fields=plain_text,html,html_lawbox,html_columbia,html_anon_2020,xml_harvard,html_with_citations,opinions_cited,author_id,id,cluster_id\n",
            "429 Client Error: Too Many Requests for url: https://www.courtlistener.com/api/rest/v3/opinions/?id__gte=4659657&id__lte=4659657&author__gte=0&order_by=id&fields=plain_text,html,html_lawbox,html_columbia,html_anon_2020,xml_harvard,html_with_citations,opinions_cited,author_id,id,cluster_id\n",
            "429 Client Error: Too Many Requests for url: https://www.courtlistener.com/api/rest/v3/opinions/?id__gte=6498183&id__lte=6498183&author__gte=0&order_by=id&fields=plain_text,html,html_lawbox,html_columbia,html_anon_2020,xml_harvard,html_with_citations,opinions_cited,author_id,id,cluster_id\n",
            "429 Client Error: Too Many Requests for url: https://www.courtlistener.com/api/rest/v3/opinions/?id__gte=4391667&id__lte=4391667&author__gte=0&order_by=id&fields=plain_text,html,html_lawbox,html_columbia,html_anon_2020,xml_harvard,html_with_citations,opinions_cited,author_id,id,cluster_id\n",
            "429 Client Error: Too Many Requests for url: https://www.courtlistener.com/api/rest/v3/opinions/?id__gte=9910605&id__lte=9910605&author__gte=0&order_by=id&fields=plain_text,html,html_lawbox,html_columbia,html_anon_2020,xml_harvard,html_with_citations,opinions_cited,author_id,id,cluster_id\n",
            "429 Client Error: Too Many Requests for url: https://www.courtlistener.com/api/rest/v3/opinions/?id__gte=4659657&id__lte=4659657&author__gte=0&order_by=id&fields=plain_text,html,html_lawbox,html_columbia,html_anon_2020,xml_harvard,html_with_citations,opinions_cited,author_id,id,cluster_id\n",
            "429 Client Error: Too Many Requests for url: https://www.courtlistener.com/api/rest/v3/opinions/?id__gte=4391667&id__lte=4391667&author__gte=0&order_by=id&fields=plain_text,html,html_lawbox,html_columbia,html_anon_2020,xml_harvard,html_with_citations,opinions_cited,author_id,id,cluster_id\n",
            "429 Client Error: Too Many Requests for url: https://www.courtlistener.com/api/rest/v3/opinions/?id__gte=6498183&id__lte=6498183&author__gte=0&order_by=id&fields=plain_text,html,html_lawbox,html_columbia,html_anon_2020,xml_harvard,html_with_citations,opinions_cited,author_id,id,cluster_id\n",
            "429 Client Error: Too Many Requests for url: https://www.courtlistener.com/api/rest/v3/opinions/?id__gte=9910605&id__lte=9910605&author__gte=0&order_by=id&fields=plain_text,html,html_lawbox,html_columbia,html_anon_2020,xml_harvard,html_with_citations,opinions_cited,author_id,id,cluster_id\n",
            "429 Client Error: Too Many Requests for url: https://www.courtlistener.com/api/rest/v3/opinions/?id__gte=4659657&id__lte=4659657&author__gte=0&order_by=id&fields=plain_text,html,html_lawbox,html_columbia,html_anon_2020,xml_harvard,html_with_citations,opinions_cited,author_id,id,cluster_id\n",
            "429 Client Error: Too Many Requests for url: https://www.courtlistener.com/api/rest/v3/opinions/?id__gte=4391667&id__lte=4391667&author__gte=0&order_by=id&fields=plain_text,html,html_lawbox,html_columbia,html_anon_2020,xml_harvard,html_with_citations,opinions_cited,author_id,id,cluster_id\n",
            "429 Client Error: Too Many Requests for url: https://www.courtlistener.com/api/rest/v3/opinions/?id__gte=6498183&id__lte=6498183&author__gte=0&order_by=id&fields=plain_text,html,html_lawbox,html_columbia,html_anon_2020,xml_harvard,html_with_citations,opinions_cited,author_id,id,cluster_id\n",
            "429 Client Error: Too Many Requests for url: https://www.courtlistener.com/api/rest/v3/opinions/?id__gte=9910605&id__lte=9910605&author__gte=0&order_by=id&fields=plain_text,html,html_lawbox,html_columbia,html_anon_2020,xml_harvard,html_with_citations,opinions_cited,author_id,id,cluster_id\n",
            "429 Client Error: Too Many Requests for url: https://www.courtlistener.com/api/rest/v3/opinions/?id__gte=4659657&id__lte=4659657&author__gte=0&order_by=id&fields=plain_text,html,html_lawbox,html_columbia,html_anon_2020,xml_harvard,html_with_citations,opinions_cited,author_id,id,cluster_id\n",
            "429 Client Error: Too Many Requests for url: https://www.courtlistener.com/api/rest/v3/opinions/?id__gte=4391667&id__lte=4391667&author__gte=0&order_by=id&fields=plain_text,html,html_lawbox,html_columbia,html_anon_2020,xml_harvard,html_with_citations,opinions_cited,author_id,id,cluster_id\n",
            "429 Client Error: Too Many Requests for url: https://www.courtlistener.com/api/rest/v3/opinions/?id__gte=9910605&id__lte=9910605&author__gte=0&order_by=id&fields=plain_text,html,html_lawbox,html_columbia,html_anon_2020,xml_harvard,html_with_citations,opinions_cited,author_id,id,cluster_id\n",
            "429 Client Error: Too Many Requests for url: https://www.courtlistener.com/api/rest/v3/opinions/?id__gte=6498183&id__lte=6498183&author__gte=0&order_by=id&fields=plain_text,html,html_lawbox,html_columbia,html_anon_2020,xml_harvard,html_with_citations,opinions_cited,author_id,id,cluster_id\n",
            "429 Client Error: Too Many Requests for url: https://www.courtlistener.com/api/rest/v3/opinions/?id__gte=4659657&id__lte=4659657&author__gte=0&order_by=id&fields=plain_text,html,html_lawbox,html_columbia,html_anon_2020,xml_harvard,html_with_citations,opinions_cited,author_id,id,cluster_id429 Client Error: Too Many Requests for url: https://www.courtlistener.com/api/rest/v3/opinions/?id__gte=4391667&id__lte=4391667&author__gte=0&order_by=id&fields=plain_text,html,html_lawbox,html_columbia,html_anon_2020,xml_harvard,html_with_citations,opinions_cited,author_id,id,cluster_id\n",
            "\n",
            "429 Client Error: Too Many Requests for url: https://www.courtlistener.com/api/rest/v3/opinions/?id__gte=9910605&id__lte=9910605&author__gte=0&order_by=id&fields=plain_text,html,html_lawbox,html_columbia,html_anon_2020,xml_harvard,html_with_citations,opinions_cited,author_id,id,cluster_id\n",
            "429 Client Error: Too Many Requests for url: https://www.courtlistener.com/api/rest/v3/opinions/?id__gte=6498183&id__lte=6498183&author__gte=0&order_by=id&fields=plain_text,html,html_lawbox,html_columbia,html_anon_2020,xml_harvard,html_with_citations,opinions_cited,author_id,id,cluster_id\n"
          ]
        },
        {
          "output_type": "stream",
          "name": "stderr",
          "text": [
            "Fetching sub-opinions data:  92%|█████████▏| 2915/3154 [2:04:07<01:24,  2.82page/s]"
          ]
        },
        {
          "output_type": "stream",
          "name": "stdout",
          "text": [
            "502 Server Error: Bad Gateway for url: https://www.courtlistener.com/api/rest/v3/opinions/?id__gte=9927581&id__lte=9927581&author__gte=0&order_by=id&fields=plain_text,html,html_lawbox,html_columbia,html_anon_2020,xml_harvard,html_with_citations,opinions_cited,author_id,id,cluster_id\n"
          ]
        },
        {
          "output_type": "stream",
          "name": "stderr",
          "text": [
            "Fetching sub-opinions data:  94%|█████████▎| 2954/3154 [2:04:23<01:05,  3.03page/s]"
          ]
        },
        {
          "output_type": "stream",
          "name": "stdout",
          "text": [
            "502 Server Error: Bad Gateway for url: https://www.courtlistener.com/api/rest/v3/opinions/?id__gte=4405177&id__lte=4405177&author__gte=0&order_by=id&fields=plain_text,html,html_lawbox,html_columbia,html_anon_2020,xml_harvard,html_with_citations,opinions_cited,author_id,id,cluster_id\n"
          ]
        },
        {
          "output_type": "stream",
          "name": "stderr",
          "text": [
            "Fetching sub-opinions data: 100%|██████████| 3154/3154 [2:05:18<00:00,  2.38s/page]\n",
            "Fetching sub-opinions data: 100%|█████████▉| 3147/3154 [2:05:20<00:01,  4.26page/s]"
          ]
        },
        {
          "output_type": "stream",
          "name": "stdout",
          "text": [
            "Worker 1 - Fetched opinions data saved as 'opinions_data_1.pickle'\n"
          ]
        },
        {
          "output_type": "stream",
          "name": "stderr",
          "text": [
            "Fetching sub-opinions data: 100%|██████████| 3154/3154 [2:05:22<00:00,  2.39s/page]\n"
          ]
        },
        {
          "output_type": "stream",
          "name": "stdout",
          "text": [
            "Worker 2 - Fetched opinions data saved as 'opinions_data_2.pickle'\n"
          ]
        },
        {
          "output_type": "stream",
          "name": "stderr",
          "text": [
            "Fetching sub-opinions data:  74%|███████▍  | 2342/3154 [2:07:53<05:23,  2.51page/s]"
          ]
        },
        {
          "output_type": "stream",
          "name": "stdout",
          "text": [
            "502 Server Error: Bad Gateway for url: https://www.courtlistener.com/api/rest/v3/opinions/?id__gte=9942277&id__lte=9942277&author__gte=0&order_by=id&fields=plain_text,html,html_lawbox,html_columbia,html_anon_2020,xml_harvard,html_with_citations,opinions_cited,author_id,id,cluster_id\n"
          ]
        },
        {
          "output_type": "stream",
          "name": "stderr",
          "text": [
            "Fetching sub-opinions data:  74%|███████▍  | 2344/3154 [2:07:53<04:08,  3.26page/s]"
          ]
        },
        {
          "output_type": "stream",
          "name": "stdout",
          "text": [
            "502 Server Error: Bad Gateway for url: https://www.courtlistener.com/api/rest/v3/opinions/?id__gte=4412107&id__lte=4412107&author__gte=0&order_by=id&fields=plain_text,html,html_lawbox,html_columbia,html_anon_2020,xml_harvard,html_with_citations,opinions_cited,author_id,id,cluster_id\n"
          ]
        },
        {
          "output_type": "stream",
          "name": "stderr",
          "text": [
            "Fetching sub-opinions data: 100%|██████████| 3155/3155 [2:11:30<00:00,  2.50s/page]\n",
            "Fetching sub-opinions data:  78%|███████▊  | 2466/3154 [2:11:32<02:54,  3.95page/s]"
          ]
        },
        {
          "output_type": "stream",
          "name": "stdout",
          "text": [
            "Worker 3 - Fetched opinions data saved as 'opinions_data_3.pickle'\n"
          ]
        },
        {
          "output_type": "stream",
          "name": "stderr",
          "text": [
            "Fetching sub-opinions data: 100%|██████████| 3154/3154 [2:15:17<00:00,  2.57s/page]\n"
          ]
        },
        {
          "output_type": "stream",
          "name": "stdout",
          "text": [
            "Worker 0 - Fetched opinions data saved as 'opinions_data_0.pickle'\n",
            "All workers completed.\n"
          ]
        }
      ],
      "source": [
        "import pickle\n",
        "import requests\n",
        "from urllib.parse import urlencode\n",
        "from tqdm import tqdm\n",
        "import time\n",
        "from bs4 import BeautifulSoup as beautifulsoup\n",
        "import json\n",
        "import pandas as pd\n",
        "import numpy as np\n",
        "from datetime import datetime, timedelta\n",
        "import sys\n",
        "from reachability import Reachability\n",
        "import os\n",
        "import multiprocessing\n",
        "\n",
        "def get_data_from_sub_opinions(api_key, url, sub_opinions_ids, max_queries_per_hour, query_count, query_lock):\n",
        "    url = url + \"opinions/\"\n",
        "    headers = {\"Authorization\": f\"Token {api_key}\"}\n",
        "    opinions_data = []\n",
        "\n",
        "    start_time = time.time()\n",
        "    with tqdm(total=len(sub_opinions_ids), desc=\"Fetching sub-opinions data\", unit=\"page\") as pbar:\n",
        "        seq_index = 0\n",
        "        while seq_index < len(sub_opinions_ids):\n",
        "            seq = sub_opinions_ids[seq_index]\n",
        "            params = {\n",
        "                \"id__gte\": seq[0],\n",
        "                \"id__lte\": seq[1],\n",
        "                \"author__gte\": 0,\n",
        "                \"order_by\": \"id\",\n",
        "                \"fields\": \"plain_text,html,html_lawbox,html_columbia,html_anon_2020,xml_harvard,html_with_citations,opinions_cited,author_id,id,cluster_id\",\n",
        "            }\n",
        "            while True:\n",
        "                try:\n",
        "                    # Check if the rate limit has been reached\n",
        "                    with query_lock:\n",
        "                        if query_count.value >= max_queries_per_hour:\n",
        "                            elapsed_time = time.time() - start_time\n",
        "                            if elapsed_time < 3600:  # 3600 seconds = 1 hour\n",
        "                                sleep_time = 3600 - elapsed_time\n",
        "                                print(f\"Rate limit reached. Waiting for {sleep_time:.2f} seconds...\")\n",
        "                                time.sleep(sleep_time)\n",
        "                                start_time = time.time()\n",
        "                                query_count.value = 0\n",
        "\n",
        "                    newurl = f\"{url}?{urlencode(params, safe=',')}\"\n",
        "                    response = requests.get(newurl, headers=headers)\n",
        "                    response.raise_for_status()\n",
        "                    data = response.json()\n",
        "                    opinions_data.extend(data[\"results\"])\n",
        "\n",
        "                    if not data[\"next\"]:\n",
        "                        break\n",
        "                    params[\"id__gte\"] = data[\"results\"][-1][\"id\"] + 1\n",
        "\n",
        "                    with query_lock:\n",
        "                        query_count.value += 1\n",
        "                    time.sleep(1)\n",
        "                except requests.exceptions.HTTPError as err:\n",
        "                    # If the request fails, wait 3 minutes and try again with the same parameters\n",
        "                    print(err)\n",
        "                    time.sleep(180)\n",
        "                    continue\n",
        "                except requests.exceptions.ConnectionError as err:\n",
        "                    reachable = Reachability(timeout=None)\n",
        "                    while not reachable.is_online():\n",
        "                        print(\"Waiting for internet connection...\")\n",
        "                        time.sleep(120)\n",
        "                    continue\n",
        "                except Exception as err:\n",
        "                    print(\"Other error: \", err)\n",
        "                    break\n",
        "\n",
        "            pbar.update(1)\n",
        "            seq_index += 1\n",
        "\n",
        "    return opinions_data\n",
        "\n",
        "def worker(api_key, url, sub_opinions_ids, max_queries_per_hour, query_count, query_lock, worker_id):\n",
        "    opinions_data = get_data_from_sub_opinions(api_key, url, sub_opinions_ids, max_queries_per_hour, query_count, query_lock)\n",
        "    with open(f'/content/drive/MyDrive/opinions_data_{worker_id}.pickle', 'wb') as f:\n",
        "        pickle.dump(opinions_data, f)\n",
        "    print(f\"Worker {worker_id} - Fetched opinions data saved as 'opinions_data_{worker_id}.pickle'\")\n",
        "\n",
        "if __name__ == '__main__':\n",
        "    from google.colab import drive\n",
        "    drive.mount('/content/drive')\n",
        "\n",
        "    # Check if remaining_seq.pickle exists\n",
        "    if os.path.exists('/content/drive/MyDrive/remaining_seq.pickle'):\n",
        "        with open('/content/drive/MyDrive/remaining_seq.pickle', 'rb') as f:\n",
        "            remaining_sequences = pickle.load(f)\n",
        "    else:\n",
        "        print(\"remaining_seq.pickle not found. Please ensure the file exists.\")\n",
        "        sys.exit(1)\n",
        "\n",
        "    # Set up multiprocessing\n",
        "    num_workers = 4  # Specify the number of worker processes\n",
        "    chunk_size = len(remaining_sequences) // num_workers\n",
        "\n",
        "    max_queries_per_hour = 5000\n",
        "    query_count = multiprocessing.Value('i', 0)  # Shared variable for total query count\n",
        "    query_lock = multiprocessing.Lock()  # Lock for synchronizing access to query_count\n",
        "\n",
        "    workers = []\n",
        "    for i in range(num_workers):\n",
        "        start_index = i * chunk_size\n",
        "        end_index = (i + 1) * chunk_size if i < num_workers - 1 else len(remaining_sequences)\n",
        "        sub_opinions_ids_chunk = remaining_sequences[start_index:end_index]\n",
        "        worker_process = multiprocessing.Process(target=worker, args=(api_key, url, sub_opinions_ids_chunk, max_queries_per_hour, query_count, query_lock, i))\n",
        "        workers.append(worker_process)\n",
        "        worker_process.start()\n",
        "\n",
        "    for worker_process in workers:\n",
        "        worker_process.join()\n",
        "\n",
        "    print(\"All workers completed.\")"
      ]
    }
  ],
  "metadata": {
    "colab": {
      "machine_shape": "hm",
      "provenance": []
    },
    "kernelspec": {
      "display_name": "Python 3",
      "name": "python3"
    },
    "language_info": {
      "name": "python"
    }
  },
  "nbformat": 4,
  "nbformat_minor": 0
}