{
  "nbformat": 4,
  "nbformat_minor": 0,
  "metadata": {
    "colab": {
      "provenance": []
    },
    "kernelspec": {
      "name": "python3",
      "display_name": "Python 3"
    },
    "language_info": {
      "name": "python"
    }
  },
  "cells": [
    {
      "cell_type": "code",
      "source": [
        "!pip install requests bs4 pandas numpy datetime urllib3 tqdm reachability rpy2\n"
      ],
      "metadata": {
        "colab": {
          "base_uri": "https://localhost:8080/"
        },
        "id": "sQXGkGb16RfF",
        "outputId": "b0ed6f23-70d2-4a66-ef8e-bfccabcd9e10"
      },
      "execution_count": null,
      "outputs": [
        {
          "output_type": "stream",
          "name": "stdout",
          "text": [
            "Requirement already satisfied: requests in /usr/local/lib/python3.10/dist-packages (2.31.0)\n",
            "Collecting bs4\n",
            "  Downloading bs4-0.0.2-py2.py3-none-any.whl (1.2 kB)\n",
            "Requirement already satisfied: pandas in /usr/local/lib/python3.10/dist-packages (1.5.3)\n",
            "Requirement already satisfied: numpy in /usr/local/lib/python3.10/dist-packages (1.25.2)\n",
            "Collecting datetime\n",
            "  Downloading DateTime-5.4-py3-none-any.whl (52 kB)\n",
            "\u001b[2K     \u001b[90m━━━━━━━━━━━━━━━━━━━━━━━━━━━━━━━━━━━━━━━━\u001b[0m \u001b[32m52.5/52.5 kB\u001b[0m \u001b[31m2.0 MB/s\u001b[0m eta \u001b[36m0:00:00\u001b[0m\n",
            "\u001b[?25hRequirement already satisfied: urllib3 in /usr/local/lib/python3.10/dist-packages (2.0.7)\n",
            "Requirement already satisfied: tqdm in /usr/local/lib/python3.10/dist-packages (4.66.2)\n",
            "Collecting reachability\n",
            "  Downloading reachability-0.1.4-py3-none-any.whl (5.5 kB)\n",
            "Requirement already satisfied: rpy2 in /usr/local/lib/python3.10/dist-packages (3.4.2)\n",
            "Requirement already satisfied: charset-normalizer<4,>=2 in /usr/local/lib/python3.10/dist-packages (from requests) (3.3.2)\n",
            "Requirement already satisfied: idna<4,>=2.5 in /usr/local/lib/python3.10/dist-packages (from requests) (3.6)\n",
            "Requirement already satisfied: certifi>=2017.4.17 in /usr/local/lib/python3.10/dist-packages (from requests) (2024.2.2)\n",
            "Requirement already satisfied: beautifulsoup4 in /usr/local/lib/python3.10/dist-packages (from bs4) (4.12.3)\n",
            "Requirement already satisfied: python-dateutil>=2.8.1 in /usr/local/lib/python3.10/dist-packages (from pandas) (2.8.2)\n",
            "Requirement already satisfied: pytz>=2020.1 in /usr/local/lib/python3.10/dist-packages (from pandas) (2023.4)\n",
            "Collecting zope.interface (from datetime)\n",
            "  Downloading zope.interface-6.2-cp310-cp310-manylinux_2_5_x86_64.manylinux1_x86_64.manylinux_2_17_x86_64.manylinux2014_x86_64.whl (247 kB)\n",
            "\u001b[2K     \u001b[90m━━━━━━━━━━━━━━━━━━━━━━━━━━━━━━━━━━━━━━━━\u001b[0m \u001b[32m247.3/247.3 kB\u001b[0m \u001b[31m10.5 MB/s\u001b[0m eta \u001b[36m0:00:00\u001b[0m\n",
            "\u001b[?25hRequirement already satisfied: cffi>=1.10.0 in /usr/local/lib/python3.10/dist-packages (from rpy2) (1.16.0)\n",
            "Requirement already satisfied: jinja2 in /usr/local/lib/python3.10/dist-packages (from rpy2) (3.1.3)\n",
            "Requirement already satisfied: tzlocal in /usr/local/lib/python3.10/dist-packages (from rpy2) (5.2)\n",
            "Requirement already satisfied: pycparser in /usr/local/lib/python3.10/dist-packages (from cffi>=1.10.0->rpy2) (2.21)\n",
            "Requirement already satisfied: six>=1.5 in /usr/local/lib/python3.10/dist-packages (from python-dateutil>=2.8.1->pandas) (1.16.0)\n",
            "Requirement already satisfied: soupsieve>1.2 in /usr/local/lib/python3.10/dist-packages (from beautifulsoup4->bs4) (2.5)\n",
            "Requirement already satisfied: MarkupSafe>=2.0 in /usr/local/lib/python3.10/dist-packages (from jinja2->rpy2) (2.1.5)\n",
            "Requirement already satisfied: setuptools in /usr/local/lib/python3.10/dist-packages (from zope.interface->datetime) (67.7.2)\n",
            "Installing collected packages: zope.interface, reachability, datetime, bs4\n",
            "Successfully installed bs4-0.0.2 datetime-5.4 reachability-0.1.4 zope.interface-6.2\n"
          ]
        }
      ]
    },
    {
      "cell_type": "code",
      "execution_count": null,
      "metadata": {
        "colab": {
          "base_uri": "https://localhost:8080/"
        },
        "id": "R7KgsBIW6JnN",
        "outputId": "427daaef-61c3-44e8-a8b9-8a858b209c90"
      },
      "outputs": [
        {
          "output_type": "stream",
          "name": "stderr",
          "text": [
            "Fetching clusters data: 121page [09:29,  4.33s/page]"
          ]
        },
        {
          "output_type": "stream",
          "name": "stdout",
          "text": [
            "502 Server Error: Bad Gateway for url: https://www.courtlistener.com/api/rest/v3/clusters/?dockets__court=scotus&id__gt=4618637&date_filed__gt=2019-01-01&sub_opinions__isnull=False&sub_opinions__author__isnull=False&order_by=id&fields=id,case_name,date_filed,scdb_decision_direction,scdb_votes_majority,scdb_votes_minority,sub_opinions\n"
          ]
        },
        {
          "output_type": "stream",
          "name": "stderr",
          "text": [
            "Fetching clusters data: 889page [1:05:19,  3.72s/page]"
          ]
        },
        {
          "output_type": "stream",
          "name": "stdout",
          "text": [
            "504 Server Error: Gateway Time-out for url: https://www.courtlistener.com/api/rest/v3/clusters/?dockets__court=scotus&id__gt=5287107&date_filed__gt=2019-01-01&sub_opinions__isnull=False&sub_opinions__author__isnull=False&order_by=id&fields=id,case_name,date_filed,scdb_decision_direction,scdb_votes_majority,scdb_votes_minority,sub_opinions\n"
          ]
        },
        {
          "output_type": "stream",
          "name": "stderr",
          "text": [
            "Fetching clusters data: 963page [1:13:06,  3.75s/page]"
          ]
        },
        {
          "output_type": "stream",
          "name": "stdout",
          "text": [
            "504 Server Error: Gateway Time-out for url: https://www.courtlistener.com/api/rest/v3/clusters/?dockets__court=scotus&id__gt=5793813&date_filed__gt=2019-01-01&sub_opinions__isnull=False&sub_opinions__author__isnull=False&order_by=id&fields=id,case_name,date_filed,scdb_decision_direction,scdb_votes_majority,scdb_votes_minority,sub_opinions\n"
          ]
        },
        {
          "output_type": "stream",
          "name": "stderr",
          "text": [
            "Fetching clusters data: 1106page [1:24:50,  3.47s/page]"
          ]
        },
        {
          "output_type": "stream",
          "name": "stdout",
          "text": [
            "504 Server Error: Gateway Time-out for url: https://www.courtlistener.com/api/rest/v3/clusters/?dockets__court=scotus&id__gt=6481434&date_filed__gt=2019-01-01&sub_opinions__isnull=False&sub_opinions__author__isnull=False&order_by=id&fields=id,case_name,date_filed,scdb_decision_direction,scdb_votes_majority,scdb_votes_minority,sub_opinions\n"
          ]
        },
        {
          "output_type": "stream",
          "name": "stderr",
          "text": [
            "Fetching clusters data: 1305page [1:35:08,  1.74s/page]"
          ]
        },
        {
          "output_type": "stream",
          "name": "stdout",
          "text": [
            "502 Server Error: Bad Gateway for url: https://www.courtlistener.com/api/rest/v3/clusters/?dockets__court=scotus&id__gt=9381892&date_filed__gt=2019-01-01&sub_opinions__isnull=False&sub_opinions__author__isnull=False&order_by=id&fields=id,case_name,date_filed,scdb_decision_direction,scdb_votes_majority,scdb_votes_minority,sub_opinions\n"
          ]
        },
        {
          "output_type": "stream",
          "name": "stderr",
          "text": [
            "Fetching clusters data: 1327page [1:38:55,  1.84s/page]"
          ]
        },
        {
          "output_type": "stream",
          "name": "stdout",
          "text": [
            "504 Server Error: Gateway Time-out for url: https://www.courtlistener.com/api/rest/v3/clusters/?dockets__court=scotus&id__gt=9388714&date_filed__gt=2019-01-01&sub_opinions__isnull=False&sub_opinions__author__isnull=False&order_by=id&fields=id,case_name,date_filed,scdb_decision_direction,scdb_votes_majority,scdb_votes_minority,sub_opinions\n"
          ]
        },
        {
          "output_type": "stream",
          "name": "stderr",
          "text": [
            "Fetching clusters data: 1544page [1:48:20,  4.21s/page]"
          ]
        },
        {
          "output_type": "stream",
          "name": "stdout",
          "text": [
            "Clusters data has been pickled and saved to 'clusters_data.pickle'.\n"
          ]
        },
        {
          "output_type": "stream",
          "name": "stderr",
          "text": [
            "\n"
          ]
        }
      ],
      "source": [
        "import requests\n",
        "from bs4 import BeautifulSoup as beautifulsoup\n",
        "import json\n",
        "import pandas as pd\n",
        "import numpy as np\n",
        "from datetime import datetime, timedelta\n",
        "from urllib.parse import urlencode\n",
        "from tqdm import tqdm\n",
        "import sys\n",
        "import time\n",
        "from reachability import reachability\n",
        "import pickle\n",
        "\n",
        "url = \"https://www.courtlistener.com/api/rest/v3/\"\n",
        "api_key = \"163cea228fb27936988d579ed72fe787848e1866\"\n",
        "\n",
        "def get_data_from_clusters(api_key, url):\n",
        "    url = url + \"clusters/\"\n",
        "    headers = {\"Authorization\": f\"Token {api_key}\"}\n",
        "    params = {\n",
        "        \"dockets__court\": \"scotus\",\n",
        "        \"id__gt\": 0,  # Start from the first ID\n",
        "        \"date_filed__gt\": \"2019-01-01\",\n",
        "        \"sub_opinions__isnull\": False,\n",
        "        \"sub_opinions__author__isnull\": False,\n",
        "        \"order_by\": \"id\",\n",
        "        \"fields\": \"id,case_name,date_filed,scdb_decision_direction,scdb_votes_majority,scdb_votes_minority,sub_opinions\"\n",
        "    }\n",
        "\n",
        "    clusters_data = []\n",
        "    with tqdm(desc=\"Fetching clusters data\", unit=\"page\") as pbar:\n",
        "        while True:\n",
        "            try:\n",
        "                response = requests.get(\n",
        "                    url, headers=headers, params=urlencode(params, safe=\",\")\n",
        "                )\n",
        "                response.raise_for_status()\n",
        "                data = response.json()\n",
        "                for cluster in data[\"results\"]:\n",
        "                    sub_opinions = cluster[\"sub_opinions\"]\n",
        "                    cluster[\"sub_opinions\"] = [\n",
        "                        int(sub_opinion.split(\"/\")[-2]) for sub_opinion in sub_opinions\n",
        "                    ]\n",
        "                clusters_data.extend(data[\"results\"])\n",
        "                if not data[\"next\"]:\n",
        "                    break\n",
        "                params[\"id__gt\"] = data[\"results\"][-1][\"id\"]\n",
        "                time.sleep(1)  # Add a delay to avoid being banned\n",
        "                pbar.update(1)\n",
        "            except requests.exceptions.HTTPError as err:\n",
        "                print(err)\n",
        "                time.sleep(180)\n",
        "                continue\n",
        "            except requests.exceptions.ConnectionError as err:\n",
        "                reachable = reachability(timeout=None)\n",
        "                while not reachable.is_online():\n",
        "                    print(\"Waiting for internet connection...\")\n",
        "                    time.sleep(120)\n",
        "                continue\n",
        "            except Exception as err:\n",
        "                print(\"Other error: \", err)\n",
        "                break\n",
        "    return clusters_data\n",
        "\n",
        "# Get data from clusters\n",
        "clusters_data = get_data_from_clusters(api_key, url)\n",
        "\n",
        "# Pickle the clusters_data\n",
        "with open('clusters_data.pickle', 'wb') as file:\n",
        "    pickle.dump(clusters_data, file)\n",
        "\n",
        "print(\"Clusters data has been pickled and saved to 'clusters_data.pickle'.\")"
      ]
    }
  ]
}