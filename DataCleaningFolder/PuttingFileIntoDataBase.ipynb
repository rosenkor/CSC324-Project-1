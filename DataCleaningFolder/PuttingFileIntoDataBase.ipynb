{
 "cells": [
  {
   "cell_type": "code",
   "execution_count": 1,
   "metadata": {
    "colab": {
     "base_uri": "https://localhost:8080/"
    },
    "id": "Qs0h9oGexR9U",
    "outputId": "b82a39c3-9c7f-4491-bf6a-be6987e17fb1"
   },
   "outputs": [
    {
     "name": "stdout",
     "output_type": "stream",
     "text": [
      "Requirement already satisfied: pandas in /usr/local/lib/python3.10/dist-packages (1.5.3)\n",
      "Requirement already satisfied: psycopg2 in /usr/local/lib/python3.10/dist-packages (2.9.9)\n",
      "Requirement already satisfied: sqlalchemy in /usr/local/lib/python3.10/dist-packages (2.0.28)\n",
      "Requirement already satisfied: pyarrow in /usr/local/lib/python3.10/dist-packages (14.0.2)\n",
      "Requirement already satisfied: python-dateutil>=2.8.1 in /usr/local/lib/python3.10/dist-packages (from pandas) (2.8.2)\n",
      "Requirement already satisfied: pytz>=2020.1 in /usr/local/lib/python3.10/dist-packages (from pandas) (2023.4)\n",
      "Requirement already satisfied: numpy>=1.21.0 in /usr/local/lib/python3.10/dist-packages (from pandas) (1.25.2)\n",
      "Requirement already satisfied: typing-extensions>=4.6.0 in /usr/local/lib/python3.10/dist-packages (from sqlalchemy) (4.10.0)\n",
      "Requirement already satisfied: greenlet!=0.4.17 in /usr/local/lib/python3.10/dist-packages (from sqlalchemy) (3.0.3)\n",
      "Requirement already satisfied: six>=1.5 in /usr/local/lib/python3.10/dist-packages (from python-dateutil>=2.8.1->pandas) (1.16.0)\n"
     ]
    }
   ],
   "source": [
    "pip install pandas psycopg2 sqlalchemy pyarrow\n"
   ]
  },
  {
   "cell_type": "code",
   "execution_count": 41,
   "metadata": {
    "id": "Ct4kh-VBxudy"
   },
   "outputs": [],
   "source": [
    "from sqlalchemy import create_engine, text, ARRAY, Integer, Text\n",
    "import psycopg2\n",
    "import psycopg2.extras\n",
    "import json\n",
    "import os\n",
    "import pandas as pd\n",
    "\n",
    "credentials = \"C:\\\\Users\\\\Kory\\\\OneDrive\\\\Documents\\\\Credentials.json\"\n",
    "\n",
    "def pgconnect(credential_filepath, db_schema=\"public\"):\n",
    "    with open(credential_filepath) as f:\n",
    "        db_conn_dict = json.load(f)\n",
    "        host       = db_conn_dict['host']\n",
    "        db_user    = db_conn_dict['user']\n",
    "        db_pw      = db_conn_dict['password']\n",
    "        default_db = db_conn_dict['user']\n",
    "        try:\n",
    "            db = create_engine('postgresql+psycopg2://'+db_user+':'+db_pw+'@'+host+'/'+default_db, echo=False)\n",
    "            conn = db.connect()\n",
    "            print('Connected successfully.')\n",
    "        except Exception as e:\n",
    "            print(\"Unable to connect to the database.\")\n",
    "            print(e)\n",
    "            db, conn = None, None\n",
    "        return db, conn\n",
    "\n",
    "def insert_feather_into_pg(feather_filepath, table_name, db_schema=\"public\"):\n",
    "    # Read the Feather file into a DataFrame\n",
    "    df = pd.read_feather(feather_filepath)\n",
    "\n",
    "    # Convert columns with array data to PostgreSQL array format\n",
    "    df['sub_opinions'] = df['sub_opinions'].apply(lambda x: list(x) if isinstance(x, pd.Series) else x)\n",
    "    df['opinions_text'] = df['opinions_text'].apply(lambda x: list(x) if isinstance(x, pd.Series) else x)\n",
    "\n",
    "    # Connect to the PostgreSQL database\n",
    "    db, conn = pgconnect(credentials)\n",
    "\n",
    "    if db is not None:\n",
    "        try:\n",
    "            # Create the table schema in PostgreSQL\n",
    "            create_table_statement = text(f\"\"\"\n",
    "                CREATE TABLE IF NOT EXISTS {db_schema}.{table_name} (\n",
    "                    cluster_id INTEGER,\n",
    "                    sub_opinions INTEGER[],\n",
    "                    date_filed DATE,\n",
    "                    case_name TEXT,\n",
    "                    scdb_votes_majority FLOAT,\n",
    "                    scdb_votes_minority FLOAT,\n",
    "                    opinion_id INTEGER,\n",
    "                    author_id INTEGER,\n",
    "                    opinions_cited INTEGER,\n",
    "                    opinions_text TEXT[],\n",
    "                    date_dob DATE,\n",
    "                    political_party CHAR(1),\n",
    "                    date_start DATE,\n",
    "                    date_left DATE,\n",
    "                    docket_id INTEGER,\n",
    "                    decision TEXT,\n",
    "                    full_name TEXT\n",
    "                );\n",
    "            \"\"\")\n",
    "            conn.execute(create_table_statement)\n",
    "            # Insert the data into the PostgreSQL database\n",
    "            df.to_sql(table_name, db, schema=db_schema, if_exists='replace', index=False, dtype={'sub_opinions': ARRAY(Integer), 'opinions_text': ARRAY(Text)})  # Use 'append' to add to existing data\n",
    "            print(f\"Data inserted successfully into {table_name} table.\")\n",
    "        except Exception as e:\n",
    "            print(\"Error while inserting data into the database:\")\n",
    "            print(e)\n",
    "        finally:\n",
    "            conn.close()\n",
    "            print(\"Connection closed.\")\n",
    "    else:\n",
    "        print(\"Database connection failed.\")"
   ]
  },
  {
   "cell_type": "code",
   "execution_count": 47,
   "metadata": {},
   "outputs": [],
   "source": [
    "import pandas as pd\n",
    "df = pd.read_feather(\"C:\\\\Users\\\\Kory\\\\OneDrive\\\\Documents\\\\cleaned_data.feather\")\n",
    "df.to_excel(\"file.xlsx\")"
   ]
  },
  {
   "cell_type": "code",
   "execution_count": 42,
   "metadata": {},
   "outputs": [],
   "source": [
    "import numpy as np\n",
    "from psycopg2.extensions import register_adapter, AsIs\n",
    "\n",
    "def addapt_numpy_array(numpy_array):\n",
    "    return AsIs(tuple(numpy_array))\n",
    "\n",
    "def addapt_numpy_float64(numpy_float64):\n",
    "    return AsIs(numpy_float64)\n",
    "\n",
    "def addapt_numpy_int64(numpy_int64):\n",
    "    return AsIs(numpy_int64)\n",
    "\n",
    "\n",
    "register_adapter(np.int64, addapt_numpy_int64)\n",
    "register_adapter(np.float64, addapt_numpy_float64)\n",
    "register_adapter(np.ndarray, addapt_numpy_array)"
   ]
  },
  {
   "cell_type": "code",
   "execution_count": 43,
   "metadata": {
    "colab": {
     "base_uri": "https://localhost:8080/"
    },
    "id": "cdM-1KY6zNdC",
    "outputId": "935cbeba-898d-4179-f4f5-87d348992b22"
   },
   "outputs": [
    {
     "name": "stdout",
     "output_type": "stream",
     "text": [
      "Connected successfully.\n",
      "Data inserted successfully into feather2 table.\n",
      "Connection closed.\n"
     ]
    }
   ],
   "source": [
    "insert_feather_into_pg(\"C:\\\\Users\\\\Kory\\\\OneDrive\\\\Documents\\\\cleaned_data.feather\", \"feather2\")"
   ]
  },
  {
   "cell_type": "code",
   "execution_count": null,
   "metadata": {},
   "outputs": [],
   "source": []
  },
  {
   "cell_type": "code",
   "execution_count": null,
   "metadata": {},
   "outputs": [],
   "source": []
  },
  {
   "cell_type": "code",
   "execution_count": null,
   "metadata": {},
   "outputs": [],
   "source": []
  }
 ],
 "metadata": {
  "colab": {
   "provenance": []
  },
  "kernelspec": {
   "display_name": "Python 3 (ipykernel)",
   "language": "python",
   "name": "python3"
  },
  "language_info": {
   "codemirror_mode": {
    "name": "ipython",
    "version": 3
   },
   "file_extension": ".py",
   "mimetype": "text/x-python",
   "name": "python",
   "nbconvert_exporter": "python",
   "pygments_lexer": "ipython3",
   "version": "3.11.8"
  }
 },
 "nbformat": 4,
 "nbformat_minor": 4
}
